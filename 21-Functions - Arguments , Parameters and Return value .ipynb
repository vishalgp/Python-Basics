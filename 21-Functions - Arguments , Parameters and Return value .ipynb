{
 "cells": [
  {
   "cell_type": "markdown",
   "metadata": {
    "slideshow": {
     "slide_type": "slide"
    }
   },
   "source": [
    "## Arguments ,Parameters and Return Value"
   ]
  },
  {
   "cell_type": "code",
   "execution_count": 1,
   "metadata": {
    "slideshow": {
     "slide_type": "slide"
    }
   },
   "outputs": [],
   "source": [
    "# Let's write a function which greets the user\n",
    "# we want it to accept any username we want\n",
    "def greet_user(username):\n",
    "    print('Hello',username,'welcome to my first function') "
   ]
  },
  {
   "cell_type": "markdown",
   "metadata": {
    "slideshow": {
     "slide_type": "fragment"
    }
   },
   "source": [
    "- this function needs information to be passed to it inorde to work\n",
    "- we have to pass username as the information"
   ]
  },
  {
   "cell_type": "code",
   "execution_count": 2,
   "metadata": {
    "slideshow": {
     "slide_type": "fragment"
    }
   },
   "outputs": [
    {
     "name": "stdout",
     "output_type": "stream",
     "text": [
      "Hello john welcome to my first function\n"
     ]
    }
   ],
   "source": [
    "# now let's call this function\n",
    "greet_user('john')"
   ]
  },
  {
   "cell_type": "markdown",
   "metadata": {
    "slideshow": {
     "slide_type": "fragment"
    }
   },
   "source": [
    "### What's the parameter\n",
    "\n",
    "- The variable _username_ in the definition of _greet_user()_ is an example of a _parameter_.\n",
    "- It is the piece of information the function needs to do its job"
   ]
  },
  {
   "cell_type": "markdown",
   "metadata": {
    "slideshow": {
     "slide_type": "fragment"
    }
   },
   "source": [
    "### What's argument\n",
    "\n",
    "- The value _john_ in _greet_user('john')_ is an example of an argument.\n",
    "- An argument is a piece of information that’s passed from a function call to a function."
   ]
  },
  {
   "cell_type": "markdown",
   "metadata": {
    "slideshow": {
     "slide_type": "fragment"
    }
   },
   "source": [
    "####  People sometimes refer to parameters and arguments interchangably. do not be surprised to this"
   ]
  },
  {
   "cell_type": "markdown",
   "metadata": {
    "slideshow": {
     "slide_type": "slide"
    }
   },
   "source": [
    "## Passing Arguments"
   ]
  },
  {
   "cell_type": "markdown",
   "metadata": {
    "slideshow": {
     "slide_type": "fragment"
    }
   },
   "source": [
    "- Because a function definition can have multiple parameters, a function call may need multiple arguments\n",
    "- You can pass arguments to your functions in a number of ways let's discuss these"
   ]
  },
  {
   "cell_type": "markdown",
   "metadata": {
    "slideshow": {
     "slide_type": "subslide"
    }
   },
   "source": [
    "### Positional Arguments\n",
    "\n",
    "- positional arguments need to be in the same order the parameters were written\n",
    "- When you call a function, Python must match each argument in the function call with a parameter in the function definition.\n",
    "- The simplest way to do this is based on the order of the arguments provided. \n",
    "- Values matched up this way are called positional arguments."
   ]
  },
  {
   "cell_type": "markdown",
   "metadata": {
    "slideshow": {
     "slide_type": "fragment"
    }
   },
   "source": [
    "### Let's Understand this by example"
   ]
  },
  {
   "cell_type": "code",
   "execution_count": 3,
   "metadata": {
    "slideshow": {
     "slide_type": "subslide"
    }
   },
   "outputs": [],
   "source": [
    "# Let's write a function to pring the name and age of a function\n",
    "# we have to pass username and userage as information to this function\n",
    "\n",
    "def name_age(username,userage):\n",
    "    \n",
    "    print(username,'is',userage,'years old')"
   ]
  },
  {
   "cell_type": "code",
   "execution_count": 4,
   "metadata": {
    "scrolled": true,
    "slideshow": {
     "slide_type": "fragment"
    }
   },
   "outputs": [
    {
     "name": "stdout",
     "output_type": "stream",
     "text": [
      "john is 30 years old\n"
     ]
    }
   ],
   "source": [
    "# Let's now call the function\n",
    "# we pass the arguments in the order of parameters i.e username and userage\n",
    "\n",
    "name_age('john',30)"
   ]
  },
  {
   "cell_type": "code",
   "execution_count": 5,
   "metadata": {
    "slideshow": {
     "slide_type": "fragment"
    }
   },
   "outputs": [
    {
     "name": "stdout",
     "output_type": "stream",
     "text": [
      "30 is john years old\n"
     ]
    }
   ],
   "source": [
    "# Let's now pass the usergae first and username later\n",
    "\n",
    "name_age(30,'john')"
   ]
  },
  {
   "cell_type": "markdown",
   "metadata": {
    "slideshow": {
     "slide_type": "fragment"
    }
   },
   "source": [
    "- if we mess up with the order of the arguments we the function may not give desired results.\n",
    "- this is the drawback with the argument.\n",
    "#### Order Matters in Positional Arguments"
   ]
  },
  {
   "cell_type": "markdown",
   "metadata": {
    "slideshow": {
     "slide_type": "slide"
    }
   },
   "source": [
    "### Keyword Arguments"
   ]
  },
  {
   "cell_type": "markdown",
   "metadata": {
    "slideshow": {
     "slide_type": "fragment"
    }
   },
   "source": [
    "- A keyword argument is a name-value pair that you pass to a function.\n",
    "- You directly associate the name and the value within the argument, so when you pass the argument to the function, there’s no confusion.\n",
    "- Keyword arguments free you from having to worry about correctly ordering your arguments in the function call\n",
    "- they clarify the role of each value in the function call."
   ]
  },
  {
   "cell_type": "markdown",
   "metadata": {
    "slideshow": {
     "slide_type": "subslide"
    }
   },
   "source": [
    "### Let's Understand this by example"
   ]
  },
  {
   "cell_type": "code",
   "execution_count": 6,
   "metadata": {
    "slideshow": {
     "slide_type": "fragment"
    }
   },
   "outputs": [],
   "source": [
    "# Let's revisit our name_age function\n",
    "\n",
    "def name_age(username,userage):\n",
    "    \n",
    "    print(username,'is',userage,'years old')"
   ]
  },
  {
   "cell_type": "code",
   "execution_count": 7,
   "metadata": {
    "scrolled": true,
    "slideshow": {
     "slide_type": "fragment"
    }
   },
   "outputs": [
    {
     "name": "stdout",
     "output_type": "stream",
     "text": [
      "john is 30 years old\n"
     ]
    }
   ],
   "source": [
    "# Calling the function by passing keyword arguments\n",
    "\n",
    "# in the order of parameters\n",
    "\n",
    "name_age(username='john',userage=30)"
   ]
  },
  {
   "cell_type": "code",
   "execution_count": 8,
   "metadata": {
    "slideshow": {
     "slide_type": "fragment"
    }
   },
   "outputs": [
    {
     "name": "stdout",
     "output_type": "stream",
     "text": [
      "john is 30 years old\n"
     ]
    }
   ],
   "source": [
    "# passing keyword arguments in random manner\n",
    "\n",
    "name_age(userage=30,username='john')"
   ]
  },
  {
   "cell_type": "markdown",
   "metadata": {
    "slideshow": {
     "slide_type": "fragment"
    }
   },
   "source": [
    "- we can see here that the order of keyword arguments does not affect the output\n",
    "- this is the advantage of keyword arguments and is useful when \n",
    "- parameters for a function are many in number"
   ]
  },
  {
   "cell_type": "markdown",
   "metadata": {
    "slideshow": {
     "slide_type": "slide"
    }
   },
   "source": [
    "### Default Values"
   ]
  },
  {
   "cell_type": "markdown",
   "metadata": {
    "slideshow": {
     "slide_type": "fragment"
    }
   },
   "source": [
    "- When writing a function, you can define a default value for each parameter.\n",
    "- If an argument for a parameter is provided in the function call, Python uses the argument value. If not, it uses the parameter’s default value.\n",
    "- So when you define a default value for a parameter, you can exclude the corresponding argument you’d usually write in the function call.\n",
    "- Using default values can simplify your function calls and clarify the ways in which your functions are typically used."
   ]
  },
  {
   "cell_type": "markdown",
   "metadata": {
    "slideshow": {
     "slide_type": "slide"
    }
   },
   "source": [
    "### Let's understand this through examples"
   ]
  },
  {
   "cell_type": "code",
   "execution_count": 9,
   "metadata": {
    "slideshow": {
     "slide_type": "fragment"
    }
   },
   "outputs": [],
   "source": [
    "# we will create a function to describe a pet\n",
    "# by default the pet will be a dog\n",
    "\n",
    "def describe_pet(pet_name,pet_animal='dog'):\n",
    "    print(\"I have a \"+pet_animal+\".\")\n",
    "    print(\"My \"+pet_animal+\"'s name is \"+pet_name.title()+\".\")"
   ]
  },
  {
   "cell_type": "code",
   "execution_count": 12,
   "metadata": {
    "slideshow": {
     "slide_type": "fragment"
    }
   },
   "outputs": [
    {
     "name": "stdout",
     "output_type": "stream",
     "text": [
      "I have a dog.\n",
      "My dog's name is Tommy.\n"
     ]
    }
   ],
   "source": [
    "# Let's call the function\n",
    "# only one argumnet is enough for calling this function\n",
    "\n",
    "describe_pet(pet_name='tommy')"
   ]
  },
  {
   "cell_type": "code",
   "execution_count": 13,
   "metadata": {
    "slideshow": {
     "slide_type": "subslide"
    }
   },
   "outputs": [
    {
     "name": "stdout",
     "output_type": "stream",
     "text": [
      "I have a dog.\n",
      "My dog's name is Tommy.\n"
     ]
    }
   ],
   "source": [
    "# we will now call the function using positional argument\n",
    "\n",
    "describe_pet('tommy')"
   ]
  },
  {
   "cell_type": "markdown",
   "metadata": {
    "slideshow": {
     "slide_type": "fragment"
    }
   },
   "source": [
    "- we can see that as the pet_animal parameter has a default value \n",
    "- even if we don't pass the argument for this parameter it will use th default value."
   ]
  },
  {
   "cell_type": "code",
   "execution_count": 14,
   "metadata": {
    "scrolled": true,
    "slideshow": {
     "slide_type": "subslide"
    }
   },
   "outputs": [
    {
     "ename": "SyntaxError",
     "evalue": "non-default argument follows default argument (<ipython-input-14-becb5160f349>, line 4)",
     "output_type": "error",
     "traceback": [
      "\u001b[1;36m  File \u001b[1;32m\"<ipython-input-14-becb5160f349>\"\u001b[1;36m, line \u001b[1;32m4\u001b[0m\n\u001b[1;33m    def describe_pet1(pet_animal='dog',pet_name):\u001b[0m\n\u001b[1;37m                     ^\u001b[0m\n\u001b[1;31mSyntaxError\u001b[0m\u001b[1;31m:\u001b[0m non-default argument follows default argument\n"
     ]
    }
   ],
   "source": [
    "# let's modify the function a bit\n",
    "# we will only change the order of parameters\n",
    "\n",
    "def describe_pet1(pet_animal='dog',pet_name):\n",
    "    print(\"I have a \"+pet_animal+\".\")\n",
    "    print(\"My \"+pet_animal+\"'s name is \"+pet_name.title()+\".\")"
   ]
  },
  {
   "cell_type": "markdown",
   "metadata": {
    "slideshow": {
     "slide_type": "fragment"
    }
   },
   "source": [
    "- this raises an error\n",
    "- When you use default values, any parameter with a default value needs to be listed after all the parameters that don’t have default values. \n",
    "- This allows Python to continue interpreting positional arguments correctly."
   ]
  },
  {
   "cell_type": "code",
   "execution_count": null,
   "metadata": {},
   "outputs": [],
   "source": []
  },
  {
   "cell_type": "markdown",
   "metadata": {},
   "source": [
    "### Return Values"
   ]
  },
  {
   "cell_type": "code",
   "execution_count": 15,
   "metadata": {},
   "outputs": [],
   "source": [
    "# this function willtake first name and last name as inputs and return the full name as output\n",
    "\n",
    "def full_name(first_name,last_name):\n",
    "    full_name=first_name+\" \"+last_name\n",
    "    print(full_name)"
   ]
  },
  {
   "cell_type": "code",
   "execution_count": 16,
   "metadata": {},
   "outputs": [
    {
     "name": "stdout",
     "output_type": "stream",
     "text": [
      "donald trump\n"
     ]
    }
   ],
   "source": [
    "# let's now call the function\n",
    "# this time we try to store the full name into a variable so i can use it later\n",
    "\n",
    "name=full_name('donald','trump')"
   ]
  },
  {
   "cell_type": "code",
   "execution_count": 17,
   "metadata": {},
   "outputs": [],
   "source": [
    "# let's now check the variable name\n",
    "name"
   ]
  },
  {
   "cell_type": "code",
   "execution_count": 18,
   "metadata": {},
   "outputs": [
    {
     "data": {
      "text/plain": [
       "NoneType"
      ]
     },
     "execution_count": 18,
     "metadata": {},
     "output_type": "execute_result"
    }
   ],
   "source": [
    "# the variable name does not have any value associated with it \n",
    "# as the function did not return any value\n",
    "# and the type of the variable is none type\n",
    "type(name)"
   ]
  },
  {
   "cell_type": "code",
   "execution_count": 19,
   "metadata": {},
   "outputs": [],
   "source": [
    "# we use the return statement at the end of the function so i can use the \n",
    "# result outside the function\n",
    "\n",
    "# let's modify the function a bit\n",
    "\n",
    "def full_name(first_name,last_name):\n",
    "    full_name=first_name+\" \"+last_name\n",
    "    return full_name"
   ]
  },
  {
   "cell_type": "code",
   "execution_count": 20,
   "metadata": {},
   "outputs": [],
   "source": [
    "# lets now try to store the value in a variable name\n",
    "\n",
    "name=full_name('Donald','Trump')"
   ]
  },
  {
   "cell_type": "code",
   "execution_count": 21,
   "metadata": {},
   "outputs": [
    {
     "data": {
      "text/plain": [
       "'Donald Trump'"
      ]
     },
     "execution_count": 21,
     "metadata": {},
     "output_type": "execute_result"
    }
   ],
   "source": [
    "# now let's type the variable name\n",
    "\n",
    "name"
   ]
  },
  {
   "cell_type": "markdown",
   "metadata": {},
   "source": [
    "- We can see that the result from the function is stored in the variable and it can be used later"
   ]
  },
  {
   "cell_type": "code",
   "execution_count": 22,
   "metadata": {},
   "outputs": [
    {
     "data": {
      "text/plain": [
       "str"
      ]
     },
     "execution_count": 22,
     "metadata": {},
     "output_type": "execute_result"
    }
   ],
   "source": [
    "# Let's now check the type of the variable\n",
    "# which should show as str\n",
    "\n",
    "type(name)"
   ]
  },
  {
   "cell_type": "code",
   "execution_count": 23,
   "metadata": {},
   "outputs": [
    {
     "name": "stdout",
     "output_type": "stream",
     "text": [
      " My name is Donald Trump\n"
     ]
    }
   ],
   "source": [
    "# example of using name for other purposes\n",
    "\n",
    "print(\" My name is \"+name)"
   ]
  }
 ],
 "metadata": {
  "kernelspec": {
   "display_name": "Python 3",
   "language": "python",
   "name": "python3"
  },
  "language_info": {
   "codemirror_mode": {
    "name": "ipython",
    "version": 3
   },
   "file_extension": ".py",
   "mimetype": "text/x-python",
   "name": "python",
   "nbconvert_exporter": "python",
   "pygments_lexer": "ipython3",
   "version": "3.7.4"
  }
 },
 "nbformat": 4,
 "nbformat_minor": 2
}
