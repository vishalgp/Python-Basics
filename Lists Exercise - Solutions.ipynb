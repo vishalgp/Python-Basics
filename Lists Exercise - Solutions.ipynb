{
 "cells": [
  {
   "cell_type": "markdown",
   "metadata": {},
   "source": [
    "### Example 1 : Display a list in required order\n",
    "\n",
    "- Given a list\n",
    "   - alis=[200,400,500,100,300]\n",
    "- Write a program to display the list as below\n",
    "   - [100, 200, 300, 400, 500]\n",
    "   - [500, 400, 300, 200, 100]"
   ]
  },
  {
   "cell_type": "code",
   "execution_count": 1,
   "metadata": {},
   "outputs": [
    {
     "name": "stdout",
     "output_type": "stream",
     "text": [
      "The Given list is \n",
      "  [200, 400, 500, 100, 300]\n",
      "The sorted list is \n",
      "  [100, 200, 300, 400, 500]\n",
      "The reversed list is \n",
      "  [500, 400, 300, 200, 100]\n"
     ]
    }
   ],
   "source": [
    "alis=[200,400,500,100,300]              # The given list is as below\n",
    "\n",
    "print('The Given list is \\n ',alis)     #  print the list to screen\n",
    "\n",
    "alis.sort()                             # Use the sort method to get the first result\n",
    "\n",
    "print('The sorted list is \\n ',alis)    # now print the result to screen\n",
    "\n",
    "alis.reverse()                          # Use the sort method to get the first result\n",
    "\n",
    "print('The reversed list is \\n ',alis)  # now print the result to screen\n"
   ]
  },
  {
   "cell_type": "markdown",
   "metadata": {},
   "source": [
    "### Example 2 : Modify the list as below\n",
    "\n",
    "- Given a list \n",
    "   - list1 = [5, 10, 15, 20, 25, 50, 20]\n",
    "- Write a program to \n",
    "   - find a value 20 in the list and \n",
    "   - replace the first occurance of \n",
    "   - element 20 to 200"
   ]
  },
  {
   "cell_type": "code",
   "execution_count": 2,
   "metadata": {},
   "outputs": [
    {
     "name": "stdout",
     "output_type": "stream",
     "text": [
      " the modified list is\n",
      " [5, 10, 15, 200, 25, 50, 20]\n"
     ]
    }
   ],
   "source": [
    "\n",
    "list1 = [5, 10, 15, 20, 25, 50, 20]  # The given list\n",
    "\n",
    "index=list1.index(20)               # we use the index method to find the index of element 20       \n",
    "\n",
    "list1[index]=200                    # we assign a new value to the element 20 whose index we got in \n",
    "                                    # last line\n",
    "\n",
    "print(' the modified list is\\n',list1)     # we now print the list to screen     "
   ]
  },
  {
   "cell_type": "markdown",
   "metadata": {},
   "source": [
    "### Example 3 : number,sum ,average of numbers in a list\n",
    "\n",
    "- Given a list\n",
    "  - list2=[123,45,87,98,32,9,21,56]\n",
    "- write a program to\n",
    "    - find number of elements in the list\n",
    "    - find the sum of all elements in the list\n",
    "    - find the average of elements of the list"
   ]
  },
  {
   "cell_type": "code",
   "execution_count": 3,
   "metadata": {},
   "outputs": [
    {
     "name": "stdout",
     "output_type": "stream",
     "text": [
      "Number of elements in the list is : 8\n",
      "sum of elements in the list is : 471\n",
      "average of elements in the list is : 58.875\n"
     ]
    }
   ],
   "source": [
    "\n",
    "list2=[123,45,87,98,32,9,21,56]    # Given list\n",
    "\n",
    "no_of_elements=len(list2)          # use len() function to find number of elements\n",
    "\n",
    "print('Number of elements in the list is :',no_of_elements) # print result to screen\n",
    "\n",
    "sum_of_elements=sum(list2)        # use sum() function to find the sum of elements\n",
    "\n",
    "print('sum of elements in the list is :',sum_of_elements) # print result to screen\n",
    "\n",
    "average_of_elements=sum_of_elements/no_of_elements  # find average by dividing sum by no of elements\n",
    "\n",
    "print('average of elements in the list is :',average_of_elements) # print result to screen"
   ]
  },
  {
   "cell_type": "markdown",
   "metadata": {},
   "source": [
    "### Example 4 : min,max in the list\n",
    "\n",
    "- Given a list\n",
    "   - list3=[2,7,34,65,76,8,4]\n",
    "- write a program to\n",
    "   - find the minimun value and it's index in the list\n",
    "   - find the maximum value and it's index in the list\n",
    "   - Hint : use the min() and max()"
   ]
  },
  {
   "cell_type": "code",
   "execution_count": 4,
   "metadata": {
    "scrolled": true
   },
   "outputs": [
    {
     "name": "stdout",
     "output_type": "stream",
     "text": [
      "Minimum Value in the list is  2 and it's index is  0\n",
      "Maximum Value in the list is  76 and it's index is  4\n"
     ]
    }
   ],
   "source": [
    "\n",
    "list3=[2,7,34,65,76,8,4]     # Given list\n",
    "\n",
    "min_val=min(list3)          # use the min() function to finc minimum value\n",
    "\n",
    "min_index=list3.index(min_val) # use the index method to find index of min val\n",
    "\n",
    "print('Minimum Value in the list is ',min_val,\"and it's index is \",min_index) # print to screen\n",
    "\n",
    "max_val=max(list3)   # use the max() function to find maximum value\n",
    "\n",
    "max_index=list3.index(max_val) #  use index method to find index of max val\n",
    "\n",
    "print('Maximum Value in the list is ',max_val,\"and it's index is \",max_index) # print to screen"
   ]
  },
  {
   "cell_type": "markdown",
   "metadata": {},
   "source": [
    "### Example 5 : Shuffle the list\n",
    "\n",
    "- Given a list\n",
    "  - color = ['Red', 'Green', 'White', 'Black', 'Pink', 'Yellow']\n",
    "- write a program to \n",
    "  - shuffle the elements of the list\n",
    "  - print the shuffled list to the screen\n",
    "  - Hint : import the shuffle function from random module "
   ]
  },
  {
   "cell_type": "code",
   "execution_count": 5,
   "metadata": {},
   "outputs": [
    {
     "name": "stdout",
     "output_type": "stream",
     "text": [
      "['Black', 'White', 'Red', 'Pink', 'Yellow', 'Green']\n"
     ]
    }
   ],
   "source": [
    "\n",
    "color = ['Red', 'Green', 'White', 'Black', 'Pink', 'Yellow'] # Given list\n",
    "\n",
    "from random import shuffle   # import the shuffle function from random module\n",
    "\n",
    "shuffle(color)      # apply the shuffle function to list color \n",
    "\n",
    "print(color)        # print the list color to screen"
   ]
  }
 ],
 "metadata": {
  "kernelspec": {
   "display_name": "Python 3",
   "language": "python",
   "name": "python3"
  },
  "language_info": {
   "codemirror_mode": {
    "name": "ipython",
    "version": 3
   },
   "file_extension": ".py",
   "mimetype": "text/x-python",
   "name": "python",
   "nbconvert_exporter": "python",
   "pygments_lexer": "ipython3",
   "version": "3.7.4"
  }
 },
 "nbformat": 4,
 "nbformat_minor": 2
}
