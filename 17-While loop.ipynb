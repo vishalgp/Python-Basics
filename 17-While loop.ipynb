{
 "cells": [
  {
   "cell_type": "markdown",
   "metadata": {},
   "source": [
    "## While loop"
   ]
  },
  {
   "cell_type": "markdown",
   "metadata": {},
   "source": [
    "- How would you write a program that repeats the same task multiple times?\n",
    "- You could copy the code and paste it several times, but such a solution is inelegant.\n",
    "- It only allows the task to be performed a fixed number of times, and any enhancements or corrections need to be made to every copy of the code.\n",
    "- When used effectively, loops can perform a large number of calculations with a small number statements."
   ]
  },
  {
   "cell_type": "markdown",
   "metadata": {},
   "source": [
    "### General format"
   ]
  },
  {
   "cell_type": "code",
   "execution_count": null,
   "metadata": {},
   "outputs": [],
   "source": [
    "while test:         # Loop test\n",
    "        statements1  # execute the body\n",
    "else:                # optional else\n",
    "    statements       # Run if didn't exit loop with break"
   ]
  },
  {
   "cell_type": "markdown",
   "metadata": {},
   "source": [
    "### Let's learn through a few examples"
   ]
  },
  {
   "cell_type": "markdown",
   "metadata": {},
   "source": [
    "#### Example 1: \n",
    "  \n",
    "  - Print integers starting from 1 while number is less than 10 "
   ]
  },
  {
   "cell_type": "code",
   "execution_count": null,
   "metadata": {},
   "outputs": [],
   "source": [
    "print(1)\n",
    "print(2)\n",
    "print(3)\n",
    "print(4)\n",
    "print(5)\n",
    "print(6)\n",
    "print(7)\n",
    "print(8)"
   ]
  },
  {
   "cell_type": "code",
   "execution_count": null,
   "metadata": {},
   "outputs": [],
   "source": [
    "x=1   # initialize a variable x =1\n",
    "\n",
    "while x<10:\n",
    "    print(x)\n",
    "    x=x+1"
   ]
  },
  {
   "cell_type": "markdown",
   "metadata": {},
   "source": [
    "### break statement\n",
    "\n",
    " - Jumps out of the closest enclosing loop (past the entire loop statement)\n",
    " - we will modify the our previous code to break once x equals to 5"
   ]
  },
  {
   "cell_type": "code",
   "execution_count": null,
   "metadata": {},
   "outputs": [],
   "source": [
    "x=1   # initialize a variable x =1\n",
    "\n",
    "while x<10:\n",
    "    if x==7:        # we use if statement to check weather x is equal to 5\n",
    "        break\n",
    "    print('current value of x is',x)\n",
    "    x=x+1"
   ]
  },
  {
   "cell_type": "markdown",
   "metadata": {},
   "source": [
    "### continue statement\n",
    "  - The continue statement causes an immediate jump to the top of a loop.\n",
    "  - we will modifiy our while loop to print when even numbers are found"
   ]
  },
  {
   "cell_type": "code",
   "execution_count": null,
   "metadata": {
    "scrolled": false
   },
   "outputs": [],
   "source": [
    "x=1   # initialize a variable x =1\n",
    "\n",
    "while x<10:\n",
    "    x=x+1\n",
    "    if x%2!=0:  \n",
    "        continue    # this will skip the next statements and go back to the starting of loop\n",
    "    print('Found a even Number',x)\n",
    "    \n",
    "    "
   ]
  },
  {
   "cell_type": "markdown",
   "metadata": {},
   "source": [
    "### pass statement\n",
    "  \n",
    "  - Does nothing at all: it’s an empty statement placeholder"
   ]
  },
  {
   "cell_type": "code",
   "execution_count": 15,
   "metadata": {
    "scrolled": true
   },
   "outputs": [
    {
     "name": "stdout",
     "output_type": "stream",
     "text": [
      "1\n",
      "2\n",
      "3\n",
      "4\n",
      "5\n",
      "6\n",
      "7\n",
      "8\n",
      "9\n"
     ]
    }
   ],
   "source": [
    "x=1   # initialize a variable x =1\n",
    "\n",
    "while x<10:\n",
    "    print(x)\n",
    "    pass\n",
    "    x=x+1"
   ]
  },
  {
   "cell_type": "markdown",
   "metadata": {},
   "source": [
    "### else statement\n",
    "\n",
    "- we can use the else statement loop inside the \n",
    "- we now see a example, we will write  a program to check\n",
    "- weather a number entered is in the list or not\n"
   ]
  },
  {
   "cell_type": "code",
   "execution_count": 21,
   "metadata": {},
   "outputs": [
    {
     "name": "stdout",
     "output_type": "stream",
     "text": [
      "Enter a number : 5\n",
      "5 not found in list\n"
     ]
    }
   ],
   "source": [
    "#Let's first define a list of numbers\n",
    "num=[2,4,6,3,8,0]\n",
    "x=int(input('Enter a number : '))  # take a\n",
    "y=0\n",
    "while  y<len(num):\n",
    "    if num[y]==x:\n",
    "        print('found',x,'in the list')\n",
    "        break \n",
    "    y=y+1\n",
    "else:\n",
    "    print(x,'not found in list')\n"
   ]
  }
 ],
 "metadata": {
  "kernelspec": {
   "display_name": "Python 3",
   "language": "python",
   "name": "python3"
  },
  "language_info": {
   "codemirror_mode": {
    "name": "ipython",
    "version": 3
   },
   "file_extension": ".py",
   "mimetype": "text/x-python",
   "name": "python",
   "nbconvert_exporter": "python",
   "pygments_lexer": "ipython3",
   "version": "3.7.4"
  }
 },
 "nbformat": 4,
 "nbformat_minor": 2
}
