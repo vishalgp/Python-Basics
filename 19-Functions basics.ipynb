{
 "cells": [
  {
   "cell_type": "markdown",
   "metadata": {
    "slideshow": {
     "slide_type": "slide"
    }
   },
   "source": [
    "## Functions basics"
   ]
  },
  {
   "cell_type": "markdown",
   "metadata": {
    "slideshow": {
     "slide_type": "fragment"
    }
   },
   "source": [
    "- A function is a device that groups a set of statements so they can be run more than once in a program.\n",
    "    - a packaged procedure invoked by name.\n",
    "- Functions also can compute a result value and let us specify parameters that serve as function inputs and may differ each time the code is run.\n",
    "- More fundamentally, functions are the alternative to programming by cutting and pasting— \n",
    "   - rather than having multiple redundant copies of an operation’s code, \n",
    "   - we can factor it into a single function.\n",
    "   \n",
    "- Functions are also the most basic program structure Python provides for maximizing code reuse, and lead us to the larger notions of program design."
   ]
  },
  {
   "cell_type": "markdown",
   "metadata": {
    "slideshow": {
     "slide_type": "slide"
    }
   },
   "source": [
    "## Why use functions"
   ]
  },
  {
   "cell_type": "markdown",
   "metadata": {
    "slideshow": {
     "slide_type": "subslide"
    }
   },
   "source": [
    "- Maximizing code reuse and minimizing redundancy\n",
    "   - Functions allow us to group and generalize code to be used arbitrarily many times later.\n",
    "   - they allow us to reduce code redundancy in our programs, and thereby reduce maintenance effort.\n",
    "- Procedural decomposition\n",
    "   - Functions also provide a tool for splitting systems into pieces that have well-defined roles\n",
    "   - It’s easier to implement the smaller tasks in isolation than it is to implement the entire process at once."
   ]
  },
  {
   "cell_type": "markdown",
   "metadata": {
    "slideshow": {
     "slide_type": "subslide"
    }
   },
   "source": [
    "### General format"
   ]
  },
  {
   "cell_type": "code",
   "execution_count": null,
   "metadata": {
    "slideshow": {
     "slide_type": "fragment"
    }
   },
   "outputs": [],
   "source": [
    "def name(arg1, arg2,... argN):     # function always start with def function \n",
    "    statements..                   # these statements are always executed everytime we \n",
    "    statements                     # call this function\n",
    "    return                         # return statement"
   ]
  },
  {
   "cell_type": "markdown",
   "metadata": {
    "slideshow": {
     "slide_type": "subslide"
    }
   },
   "source": [
    "### def statement"
   ]
  },
  {
   "cell_type": "code",
   "execution_count": null,
   "metadata": {
    "slideshow": {
     "slide_type": "fragment"
    }
   },
   "outputs": [],
   "source": [
    "def name(arg1, arg2,... argN):                     \n",
    "    statements                    \n",
    "    return "
   ]
  },
  {
   "cell_type": "markdown",
   "metadata": {
    "slideshow": {
     "slide_type": "fragment"
    }
   },
   "source": [
    "- The def statement creates a function object and assigns it to a name.\n",
    "- As with all compound Python statements, def consists of a header line followed by a block of statements, usually indented (or a simple statement after the colon).\n",
    "- The def header line specifies a function name that is assigned the function object, along with a list of zero or more arguments (sometimes called parameters) in parentheses."
   ]
  },
  {
   "cell_type": "markdown",
   "metadata": {
    "slideshow": {
     "slide_type": "subslide"
    }
   },
   "source": [
    "### return statement"
   ]
  },
  {
   "cell_type": "code",
   "execution_count": null,
   "metadata": {
    "slideshow": {
     "slide_type": "fragment"
    }
   },
   "outputs": [],
   "source": [
    "def name(arg1, arg2,... argN):                     \n",
    "    statements                    \n",
    "    return"
   ]
  },
  {
   "cell_type": "markdown",
   "metadata": {
    "slideshow": {
     "slide_type": "fragment"
    }
   },
   "source": [
    "- The Python return statement can show up anywhere in a function body;\n",
    "- when reached, it ends the function call and sends a result back to the caller.\n",
    "- The return statement consists of an optional object value expression that gives the function’s result. \n",
    "- If the value is omitted, return sends back a None.\n",
    "- The return statement itself is optional too; \n",
    "- if it’s not present, the function exits when the control flow falls off the end of the function body. \n",
    "- Technically, a function without a return statement also returns the None object automatically, but this return value is usually ignored at the call."
   ]
  },
  {
   "cell_type": "markdown",
   "metadata": {
    "slideshow": {
     "slide_type": "slide"
    }
   },
   "source": [
    "###  functions in action"
   ]
  },
  {
   "cell_type": "markdown",
   "metadata": {
    "slideshow": {
     "slide_type": "fragment"
    }
   },
   "source": [
    "#### defining function\n",
    "   - we will define a greet function which types a hello msg"
   ]
  },
  {
   "cell_type": "code",
   "execution_count": 5,
   "metadata": {
    "slideshow": {
     "slide_type": "subslide"
    }
   },
   "outputs": [],
   "source": [
    "# Defining function\n",
    "\n",
    "def greet():\n",
    "    print('Hello welcome to my first function')"
   ]
  },
  {
   "cell_type": "markdown",
   "metadata": {
    "slideshow": {
     "slide_type": "fragment"
    }
   },
   "source": [
    "#### Calling function\n",
    " - we call the function by its name"
   ]
  },
  {
   "cell_type": "code",
   "execution_count": 8,
   "metadata": {
    "slideshow": {
     "slide_type": "fragment"
    }
   },
   "outputs": [
    {
     "name": "stdout",
     "output_type": "stream",
     "text": [
      "Hello welcome to my first function\n",
      "Hello welcome to my first function\n",
      "Hello welcome to my first function\n",
      "Hello welcome to my first function\n"
     ]
    }
   ],
   "source": [
    "# calling the function\n",
    "\n",
    "greet()\n",
    "greet()\n",
    "greet()\n",
    "greet()"
   ]
  },
  {
   "cell_type": "code",
   "execution_count": 9,
   "metadata": {},
   "outputs": [
    {
     "name": "stdout",
     "output_type": "stream",
     "text": [
      "Hello welcome to my first function\n"
     ]
    }
   ],
   "source": [
    "a=greet()"
   ]
  },
  {
   "cell_type": "code",
   "execution_count": 10,
   "metadata": {},
   "outputs": [
    {
     "data": {
      "text/plain": [
       "NoneType"
      ]
     },
     "execution_count": 10,
     "metadata": {},
     "output_type": "execute_result"
    }
   ],
   "source": [
    "type(a)"
   ]
  },
  {
   "cell_type": "markdown",
   "metadata": {
    "slideshow": {
     "slide_type": "slide"
    }
   },
   "source": [
    "### Let's now modify the function \n",
    "- to take name as input\n",
    "- and print the welcome message with name"
   ]
  },
  {
   "cell_type": "code",
   "execution_count": 13,
   "metadata": {
    "slideshow": {
     "slide_type": "subslide"
    }
   },
   "outputs": [],
   "source": [
    "# First way\n",
    "# use the input function\n",
    "def greet():\n",
    "    name=input('who do you want to greet : ')\n",
    "    print('Hello',name,'welcome to my first function')\n",
    "    \n",
    "    \n",
    "# Second way\n",
    "# add the parameters\n",
    "def greet1(name):\n",
    "    print('Hello',name,'welcome to my first function') "
   ]
  },
  {
   "cell_type": "code",
   "execution_count": 12,
   "metadata": {
    "scrolled": false,
    "slideshow": {
     "slide_type": "subslide"
    }
   },
   "outputs": [
    {
     "name": "stdout",
     "output_type": "stream",
     "text": [
      "who do you want to greet : john\n",
      "Hello john welcome to my first function\n"
     ]
    }
   ],
   "source": [
    "# Lets now call the first greet function\n",
    "greet()"
   ]
  },
  {
   "cell_type": "code",
   "execution_count": 14,
   "metadata": {
    "slideshow": {
     "slide_type": "fragment"
    }
   },
   "outputs": [
    {
     "name": "stdout",
     "output_type": "stream",
     "text": [
      "Hello john welcome to my first function\n"
     ]
    }
   ],
   "source": [
    "# let's now call the second greet1 function\n",
    "greet1('john')"
   ]
  },
  {
   "cell_type": "markdown",
   "metadata": {
    "slideshow": {
     "slide_type": "slide"
    }
   },
   "source": [
    "### Polymorphism"
   ]
  },
  {
   "cell_type": "markdown",
   "metadata": {
    "slideshow": {
     "slide_type": "fragment"
    }
   },
   "source": [
    "- we will try to understand polymorphism through an example\n",
    "- we will create a new function times which takes two variables x and y\n",
    "- and carries out a operation between them"
   ]
  },
  {
   "cell_type": "code",
   "execution_count": 15,
   "metadata": {
    "slideshow": {
     "slide_type": "slide"
    }
   },
   "outputs": [],
   "source": [
    "def times(x,y):\n",
    "    print(str(x),'*',str(y),'=',x*y)"
   ]
  },
  {
   "cell_type": "code",
   "execution_count": 16,
   "metadata": {
    "scrolled": true,
    "slideshow": {
     "slide_type": "fragment"
    }
   },
   "outputs": [
    {
     "name": "stdout",
     "output_type": "stream",
     "text": [
      "2 * 4 = 8\n"
     ]
    }
   ],
   "source": [
    "# let's now input the variables as x=2 and y=4\n",
    "\n",
    "times(2,4)"
   ]
  },
  {
   "cell_type": "code",
   "execution_count": 21,
   "metadata": {
    "slideshow": {
     "slide_type": "fragment"
    }
   },
   "outputs": [
    {
     "name": "stdout",
     "output_type": "stream",
     "text": [
      "Hey * 5 = HeyHeyHeyHeyHey\n"
     ]
    }
   ],
   "source": [
    "# let's now input the variables as x='Hey' and y=4\n",
    "\n",
    "times('Hey',5)"
   ]
  },
  {
   "cell_type": "markdown",
   "metadata": {
    "slideshow": {
     "slide_type": "subslide"
    }
   },
   "source": [
    "- As we just saw, the very meaning of the expression x * y in our simple times function depends completely upon the kinds of objects that x and y are\n",
    "- thus, the same function can perform multiplication in one instance and repetition in another.\n",
    "- Python leaves it up to the objects to do something reasonable for the syntax.\n",
    "- Really, * is just a dispatch mechanism that routes control to the objects being processed."
   ]
  },
  {
   "cell_type": "markdown",
   "metadata": {
    "slideshow": {
     "slide_type": "fragment"
    }
   },
   "source": [
    "### This sort of type-dependent behavior is known as polymorphism"
   ]
  }
 ],
 "metadata": {
  "kernelspec": {
   "display_name": "Python 3",
   "language": "python",
   "name": "python3"
  },
  "language_info": {
   "codemirror_mode": {
    "name": "ipython",
    "version": 3
   },
   "file_extension": ".py",
   "mimetype": "text/x-python",
   "name": "python",
   "nbconvert_exporter": "python",
   "pygments_lexer": "ipython3",
   "version": "3.7.4"
  }
 },
 "nbformat": 4,
 "nbformat_minor": 2
}
