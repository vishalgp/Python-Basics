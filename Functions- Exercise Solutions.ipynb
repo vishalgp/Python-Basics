{
 "cells": [
  {
   "cell_type": "markdown",
   "metadata": {},
   "source": [
    "### Example 1 : Calculate hypotenuse"
   ]
  },
  {
   "cell_type": "markdown",
   "metadata": {},
   "source": [
    "- Given two smaller sides of a right triangle write a function to calculate \n",
    "- hypotenuse of a triangle"
   ]
  },
  {
   "cell_type": "code",
   "execution_count": 26,
   "metadata": {},
   "outputs": [],
   "source": [
    "# we will name thefunction as hypotenuse\n",
    "# and take two sides of the triangle as input (parameters)\n",
    "\n",
    "def hypotenuse(a,b):\n",
    "\n",
    "    c=(a**2+b**2)**0.5   # define a variable c which stores the hypotenuse value calculated \n",
    "                         # using pythogoreous theorm\n",
    "    return c             # we will return the value c"
   ]
  },
  {
   "cell_type": "code",
   "execution_count": 27,
   "metadata": {},
   "outputs": [
    {
     "data": {
      "text/plain": [
       "10.0"
      ]
     },
     "execution_count": 27,
     "metadata": {},
     "output_type": "execute_result"
    }
   ],
   "source": [
    "# Let's now use the function hypotenuse\n",
    "hypotenuse(6,8)"
   ]
  },
  {
   "cell_type": "markdown",
   "metadata": {},
   "source": [
    "### Example 2 : Number of characters in a string"
   ]
  },
  {
   "cell_type": "markdown",
   "metadata": {},
   "source": [
    "- given a string your function should return number of characters in the string"
   ]
  },
  {
   "cell_type": "code",
   "execution_count": 28,
   "metadata": {},
   "outputs": [],
   "source": [
    "# we will name the function as no_of_chars\n",
    "# it will take the string as input\n",
    "\n",
    "def no_of_chars(string):\n",
    "    if type(string)==str:        # first we maku sure user has entered a string only\n",
    "        return len(string)       # if the input given by user is string only we \n",
    "                                 # use the len() function to calculate the number of characters\n",
    "    else:\n",
    "        print('Enter a string')  # if input by user is not string we print a msg"
   ]
  },
  {
   "cell_type": "code",
   "execution_count": 29,
   "metadata": {},
   "outputs": [
    {
     "data": {
      "text/plain": [
       "3"
      ]
     },
     "execution_count": 29,
     "metadata": {},
     "output_type": "execute_result"
    }
   ],
   "source": [
    "no_of_chars('345')"
   ]
  },
  {
   "cell_type": "markdown",
   "metadata": {},
   "source": [
    "### Example 3 : Number of digits in a integer"
   ]
  },
  {
   "cell_type": "markdown",
   "metadata": {},
   "source": [
    "- write a function which will return number of digits in a integer"
   ]
  },
  {
   "cell_type": "code",
   "execution_count": 30,
   "metadata": {},
   "outputs": [],
   "source": [
    "# we will name the function as no_of_digits\n",
    "# it will take number as input\n",
    "\n",
    "def no_of_digits(num):\n",
    "    num=str(num)               # first  convert the user input to a string\n",
    "    if num.isnumeric()==True:  # check if all characters are numerals\n",
    "        return len(num)        # if yes use the len() function to retun the no of digits\n",
    "    else:\n",
    "        print('Enter a integer') # if all characters are not numeral print the msg"
   ]
  },
  {
   "cell_type": "code",
   "execution_count": 31,
   "metadata": {},
   "outputs": [
    {
     "data": {
      "text/plain": [
       "4"
      ]
     },
     "execution_count": 31,
     "metadata": {},
     "output_type": "execute_result"
    }
   ],
   "source": [
    "no_of_digits(1234)"
   ]
  },
  {
   "cell_type": "markdown",
   "metadata": {},
   "source": [
    "### Example 4 : Sum of digits in a integer"
   ]
  },
  {
   "cell_type": "markdown",
   "metadata": {},
   "source": [
    "- write a function to calculate sum of digits in a integer"
   ]
  },
  {
   "cell_type": "code",
   "execution_count": 32,
   "metadata": {},
   "outputs": [],
   "source": [
    "# we will name the function as sum_of_digits\n",
    "# it will take a single input as num\n",
    "\n",
    "def sum_of_digits(num):\n",
    "    if str(num).isnumeric()==True:    # first we check if input has only numerals\n",
    "        lis_dig_str=list(str(num))    # if yes we create a list of all digits converted to strings\n",
    "        lis_dig_int=[int(k) for k in lis_dig_str] # we convert the string list to integer list\n",
    "        return sum(lis_dig_int)    # we return the sum of elements of int list i.e. sum of digits\n",
    "    else:\n",
    "        print('Enter a integer')  # if input is not a integer we print a msg\n",
    "        "
   ]
  },
  {
   "cell_type": "code",
   "execution_count": 33,
   "metadata": {
    "scrolled": false
   },
   "outputs": [
    {
     "name": "stdout",
     "output_type": "stream",
     "text": [
      "Enter a integer\n"
     ]
    }
   ],
   "source": [
    "sum_of_digits('apple')"
   ]
  },
  {
   "cell_type": "markdown",
   "metadata": {},
   "source": [
    "### Example 5 : Calculate life path number"
   ]
  },
  {
   "cell_type": "markdown",
   "metadata": {},
   "source": [
    "- Given date of birth,birth month,and birth year\n",
    "- Calculate life path number which is,\n",
    "   - sum of digits in a date of birth, birth month and birth year.\n",
    "   - if sum of digits is more than 10 sum the digits again to get a single digit."
   ]
  },
  {
   "cell_type": "code",
   "execution_count": 34,
   "metadata": {},
   "outputs": [],
   "source": [
    "# we name the function as life_path_number \n",
    "# inputs are date_of_birth,birth_month,birth_year\n",
    "\n",
    "def life_path_number(dob,bm,by):\n",
    "    \n",
    "    while dob>=10 or bm>=10 or by>=10 : # we use the while loop to make sure that the sums \n",
    "                                        # are in single digits\n",
    "        \n",
    "        dob=sum_of_digits(dob)          # we use the sum_of_digits function from previous example\n",
    "        bm=sum_of_digits(bm)\n",
    "        by=sum_of_digits(by)\n",
    "    \n",
    "    sum_all= dob+bm+by                  # we sum all individual sums\n",
    "    while sum_all>=10:                  # make usre that total sum is in single digit\n",
    "        sum_all=sum_of_digits(sum_all)  # use the sum_of_digits function again\n",
    "    return sum_all                      # we return the sum_all which is life pathnumber"
   ]
  },
  {
   "cell_type": "code",
   "execution_count": 35,
   "metadata": {},
   "outputs": [
    {
     "data": {
      "text/plain": [
       "2"
      ]
     },
     "execution_count": 35,
     "metadata": {},
     "output_type": "execute_result"
    }
   ],
   "source": [
    "# Let's now cal the function\n",
    "life_path_number(15,2,1992)"
   ]
  },
  {
   "cell_type": "markdown",
   "metadata": {},
   "source": [
    "### Example 6 : Calculate the total price of items"
   ]
  },
  {
   "cell_type": "markdown",
   "metadata": {},
   "source": [
    "- write a function to calculate the sum of price of items\n",
    "- function should take the price of items as input\n",
    "- there is no limit to number of items that a function can take as input\n",
    "- Hint : use *args"
   ]
  },
  {
   "cell_type": "code",
   "execution_count": 36,
   "metadata": {},
   "outputs": [],
   "source": [
    "# we name the function as total_price\n",
    "# it will take input as price of items\n",
    "\n",
    "def total_price(*price):         # use the *args to take any number of arguments\n",
    "    return sum(price)           # use the sum() function to find the sum of price of all items"
   ]
  },
  {
   "cell_type": "code",
   "execution_count": 37,
   "metadata": {},
   "outputs": [
    {
     "data": {
      "text/plain": [
       "235"
      ]
     },
     "execution_count": 37,
     "metadata": {},
     "output_type": "execute_result"
    }
   ],
   "source": [
    "total_price(12,34,56,23,43,67)"
   ]
  },
  {
   "cell_type": "markdown",
   "metadata": {},
   "source": [
    "### Example 7 : Total number of items\n",
    "\n",
    "- Write a function to count the total number of items\n",
    "- function should take name of item,quantity as input\n",
    "- there is no limit to number of items that can be added\n",
    "- Hint : use **kwargs"
   ]
  },
  {
   "cell_type": "code",
   "execution_count": 38,
   "metadata": {},
   "outputs": [],
   "source": [
    "# we name the function as no_of_items\n",
    "# item name and quantity should be given as input\n",
    "def no_of_items(**objects):                       # we use the **kwargs to take any no of key,value \n",
    "    print('You have Entered these items')         # print the msg\n",
    "    for key,value in objects.items():             # we loop to print the key value pair\n",
    "        print(key.title() ,':',value)\n",
    "        \n",
    "    return sum(objects.values())                 # we return the total quantity of all items\n",
    "    "
   ]
  },
  {
   "cell_type": "code",
   "execution_count": 39,
   "metadata": {},
   "outputs": [
    {
     "name": "stdout",
     "output_type": "stream",
     "text": [
      "You have Entered these items\n",
      "Apple : 12\n",
      "Ball : 3\n",
      "Cat : 45\n",
      "Dog : 65\n",
      "Elephent : 2\n",
      "Frog : 5\n"
     ]
    },
    {
     "data": {
      "text/plain": [
       "132"
      ]
     },
     "execution_count": 39,
     "metadata": {},
     "output_type": "execute_result"
    }
   ],
   "source": [
    "no_of_items(apple=12,ball=3,cat=45,dog=65,elephent=2,frog=5)"
   ]
  }
 ],
 "metadata": {
  "kernelspec": {
   "display_name": "Python 3",
   "language": "python",
   "name": "python3"
  },
  "language_info": {
   "codemirror_mode": {
    "name": "ipython",
    "version": 3
   },
   "file_extension": ".py",
   "mimetype": "text/x-python",
   "name": "python",
   "nbconvert_exporter": "python",
   "pygments_lexer": "ipython3",
   "version": "3.7.4"
  }
 },
 "nbformat": 4,
 "nbformat_minor": 2
}
