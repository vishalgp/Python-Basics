{
 "cells": [
  {
   "cell_type": "markdown",
   "metadata": {},
   "source": [
    "### Exercise 1 : Several Variables using tuples\n",
    "\n",
    "- Given a tuple\n",
    "   - Write a program to unpack a tuple in several variables."
   ]
  },
  {
   "cell_type": "code",
   "execution_count": null,
   "metadata": {},
   "outputs": [],
   "source": [
    "tup=(1,2,3,4,5)  # Given Tuple\n",
    "\n",
    "a,b,c,d,e=tup    # define the variables  equal to number of elements in the tuple\n",
    "\n",
    "print(a,b,c,d,e) # print the variables\n"
   ]
  },
  {
   "cell_type": "markdown",
   "metadata": {},
   "source": [
    "### Exercise 2 : Tuple of tuples\n",
    "\n",
    "- write a program to create a tuple of \n",
    "   - tuples of ( even number ,squares) till number is 10\n",
    "   - tuple of  (odd number ,cubes) till number is 10"
   ]
  },
  {
   "cell_type": "code",
   "execution_count": null,
   "metadata": {},
   "outputs": [],
   "source": [
    "\n",
    "tup4=tuple((k,k**2) for k in range(2,11,2)) # use range function and for loop\n",
    "\n",
    "print('Tuple of Even number and  Squre : \\n',tup4)         # print the result to screen\n",
    "\n",
    "tup5=tuple((k,k**3) for k in range(1,11,2))  # use the range function and for loop\n",
    "\n",
    "print('Tuple of odd number and  Cube : \\n',tup5)"
   ]
  },
  {
   "cell_type": "markdown",
   "metadata": {},
   "source": [
    "### Exercise 3 : add item to tuple\n",
    "\n",
    "- Given a tuple\n",
    "   - Write a Python program to add an item in a tuple\n",
    "      - in the end of the list\n",
    "      - at a specific index in the tuple"
   ]
  },
  {
   "cell_type": "code",
   "execution_count": null,
   "metadata": {},
   "outputs": [],
   "source": [
    "tup=(5,6,7,3)   # given tuple\n",
    "\n",
    "tup=tup+(4,)   #  merging of tuples with + operator we can add element to tuple\n",
    "\n",
    "print(tup)    # print the results to screen\n",
    "\n",
    "# we will add an element to the tuple after the element 6\n",
    "# add a element 8\n",
    "\n",
    "tup=tup[:2]+(8,)+tup[2:]  # get a tuple of elements upto 6 \n",
    "                          # merge the element 8 using the + operator\n",
    "                          # get a tuple of elements after 6\n",
    "                          # then merge the tuple using + operator\n",
    "\n",
    "print(tup)"
   ]
  },
  {
   "cell_type": "markdown",
   "metadata": {},
   "source": [
    "### Exercise 4 : tuple to string\n",
    "\n",
    "- Given a tuple\n",
    "   - tup1=('n','a','m','e',' ','i','s',' ','b','o','n','d')\n",
    "   - Write a Python program to add an item in a tuple\n",
    "      - to covert it to a string\n",
    "      "
   ]
  },
  {
   "cell_type": "code",
   "execution_count": null,
   "metadata": {},
   "outputs": [],
   "source": [
    "\n",
    "tup1=('n','a','m','e',' ','i','s',' ','b','o','n','d')  #Given tuple\n",
    "\n",
    "string=''.join(tup1)       # use the join method for the empty string to get the result\n",
    "\n",
    "print (string)            # print the result to screen"
   ]
  },
  {
   "cell_type": "markdown",
   "metadata": {},
   "source": [
    "### Exercise 5 : tuple by range function and modify using insert method of lists\n",
    "\n",
    "- create a list of even numbers upto 10 using range function\n",
    "   - add an element 5 to the tuple after element 4  \n",
    "   - use insert method of lists to acheive this\n",
    "      "
   ]
  },
  {
   "cell_type": "code",
   "execution_count": null,
   "metadata": {},
   "outputs": [],
   "source": [
    "\n",
    "tup2=tuple(k for k in range(2,11,2)) # create a tuple of even numbers using the range function\n",
    "\n",
    "print ('The Given tuple is :  ',tup2)    # print the tuple to screen\n",
    "\n",
    "tup_to_list=list(tup2)    # create a list from the tup2\n",
    "\n",
    "print('The tuple converted to list is :  ',tup_to_list)    # print the list to screen\n",
    "\n",
    "index=tup_to_list.index(4) # use the index method to get index of element 4\n",
    "\n",
    "tup_to_list.insert(index+1,5) #  use insert method to insert 5\n",
    "\n",
    "print('The list after inserting 5',tup_to_list)  # print the list to screen\n",
    "\n",
    "list_to_tup=tuple(tup_to_list) # use tuple function to convert list to tuple\n",
    "\n",
    "print('The tuple to screen',list_to_tup) # print the tuple to screen"
   ]
  }
 ],
 "metadata": {
  "kernelspec": {
   "display_name": "Python 3",
   "language": "python",
   "name": "python3"
  },
  "language_info": {
   "codemirror_mode": {
    "name": "ipython",
    "version": 3
   },
   "file_extension": ".py",
   "mimetype": "text/x-python",
   "name": "python",
   "nbconvert_exporter": "python",
   "pygments_lexer": "ipython3",
   "version": "3.7.4"
  }
 },
 "nbformat": 4,
 "nbformat_minor": 2
}
