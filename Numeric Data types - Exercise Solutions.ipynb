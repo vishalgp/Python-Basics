{
 "cells": [
  {
   "cell_type": "markdown",
   "metadata": {},
   "source": [
    "## Solution to Exercise 1 : Display birth year"
   ]
  },
  {
   "cell_type": "markdown",
   "metadata": {},
   "source": [
    "- Take the age of a person as input\n",
    "- print the year in which the person was born on the screen"
   ]
  },
  {
   "cell_type": "code",
   "execution_count": 2,
   "metadata": {},
   "outputs": [
    {
     "name": "stdout",
     "output_type": "stream",
     "text": [
      "Enter your age : 31\n",
      "you were born in the year :  1989\n"
     ]
    }
   ],
   "source": [
    "# we will start by creating a variable to store the age of the person\n",
    "# we will store it as a int\n",
    "\n",
    "age=int(input('Enter your age : '))\n",
    "\n",
    "# we create a variable called current_year which will store the value of current year\n",
    "\n",
    "current_year=2020\n",
    "\n",
    "# now we create a variable birth_year to calculate birth_year\n",
    "# birth year is the difference of current_year and age\n",
    "\n",
    "birth_year=current_year-age\n",
    "\n",
    "# now we display the birth year of the person to the screen\n",
    "\n",
    "print('you were born in the year : ',birth_year)"
   ]
  },
  {
   "cell_type": "code",
   "execution_count": null,
   "metadata": {},
   "outputs": [],
   "source": []
  },
  {
   "cell_type": "code",
   "execution_count": null,
   "metadata": {},
   "outputs": [],
   "source": []
  },
  {
   "cell_type": "markdown",
   "metadata": {},
   "source": [
    "## Solutions to Exercise 2 : Build a complex number"
   ]
  },
  {
   "cell_type": "markdown",
   "metadata": {},
   "source": [
    "- take real and imaginary parts as inputs\n",
    "- display the complex number to screen"
   ]
  },
  {
   "cell_type": "code",
   "execution_count": null,
   "metadata": {
    "scrolled": true
   },
   "outputs": [],
   "source": [
    "# we will start by creating two variables\n",
    "# one will store the real part of the complex number\n",
    "# other will store the imaginary part of the complex number\n",
    "\n",
    "real=float(input('Enter the real part of the complex number : '))\n",
    "imag=float(input('\\nEnter the imaginary part of the complex number : '))\n",
    "\n",
    "\n",
    "# we create the complex number using complex function\n",
    "\n",
    "complex_num=complex(real,imag)\n",
    "\n",
    "# we now display the complex number to the screen\n",
    "\n",
    "print('\\nThe complex number with real part',real,'and imaginary part',imag,'is',complex_num)\n",
    "\n",
    "# we now calculate the absolute value of the complex number suing abs function\n",
    "\n",
    "absolute_value=abs(complex_num)\n",
    "\n",
    "# now we print the absolute value to the screen\n",
    "\n",
    "print('\\nAbsolute value of the complex number',complex_num,'is',absolute_value)\n",
    "\n"
   ]
  },
  {
   "cell_type": "code",
   "execution_count": null,
   "metadata": {},
   "outputs": [],
   "source": []
  },
  {
   "cell_type": "code",
   "execution_count": null,
   "metadata": {},
   "outputs": [],
   "source": []
  },
  {
   "cell_type": "markdown",
   "metadata": {},
   "source": [
    "## Exercise 3 : sum of first n positive integers"
   ]
  },
  {
   "cell_type": "markdown",
   "metadata": {},
   "source": [
    "- write a program which takes input as a number n\n",
    "- and gives sum of first n positive integers"
   ]
  },
  {
   "cell_type": "markdown",
   "metadata": {},
   "source": [
    "- formula for calculating the sum of first n positive integers is \n",
    "\n",
    "$$ S_n=\\frac{n(n+1)}{2}$$"
   ]
  },
  {
   "cell_type": "code",
   "execution_count": null,
   "metadata": {},
   "outputs": [],
   "source": [
    "# first we create a variable n which will store the value of the integer\n",
    "\n",
    "n=int(input('Enter a positive integer : '))\n",
    "\n",
    "# we now create a variable sum to calculate the sum of \n",
    "\n",
    "n_sum=n*(n+1)/2\n",
    "\n",
    "# now we print the variable n_sum to the sereen\n",
    "\n",
    "print('\\nThe sum of first', n, 'positive integers is : ', n_sum)"
   ]
  },
  {
   "cell_type": "code",
   "execution_count": null,
   "metadata": {},
   "outputs": [],
   "source": []
  },
  {
   "cell_type": "code",
   "execution_count": null,
   "metadata": {},
   "outputs": [],
   "source": []
  },
  {
   "cell_type": "markdown",
   "metadata": {},
   "source": [
    "## Exercise 4 : Arithmatic"
   ]
  },
  {
   "cell_type": "markdown",
   "metadata": {},
   "source": [
    "- Create a program that reads two integers, a and b, from the user\n",
    "- Your program should compute and display:\n",
    "  - The sum of a and b\n",
    "  - The difference when b is subtracted from a\n",
    "  - The product of a and b\n",
    "  - The quotient when a is divided by b\n",
    "  - The remainder when a is divided by b\n",
    "  - The result of $log_{10}a$\n",
    "  - The result of $a^b$"
   ]
  },
  {
   "cell_type": "code",
   "execution_count": null,
   "metadata": {
    "scrolled": true
   },
   "outputs": [],
   "source": [
    "# we will first take the values of two numbers and store them in variables a and b\n",
    "\n",
    "a= int(input('Enter a number : '))\n",
    "b= int(input('Enter another number : '))\n",
    "\n",
    "# now we carry out the arithmatic of these two numbers\n",
    "# this time we will not create variables to store results but directly print them to the screen\n",
    "\n",
    "# sum\n",
    "\n",
    "print('\\nsum of',a,'and',b,'is',a+b)\n",
    "\n",
    "# difference\n",
    "\n",
    "print('\\ndifference of',a,'and',b,'is',a-b)\n",
    "\n",
    "# product\n",
    "\n",
    "print('\\nproduct of',a,'and',b,'is',a*b)\n",
    "\n",
    "#The quotient when a is divided by b\n",
    "\n",
    "print('\\nquotient of',a,'divided',b,'is',a/b)\n",
    "\n",
    "# The remainder when a is divided by b.\n",
    "\n",
    "print('\\nreminder of',a,'divided',b,'is',a%b)\n",
    "\n",
    "# The result of  𝑙𝑜𝑔10𝑎\n",
    "# we first import the log10 function from math module\n",
    "\n",
    "from math import log10\n",
    "\n",
    "print('\\nthe log10 of',a,'is',log10(a))\n",
    "\n",
    "#The result of  𝑎^b\n",
    "\n",
    "print('\\nthe result of ',a,'raised to the power of',b,'is',a**b)"
   ]
  },
  {
   "cell_type": "code",
   "execution_count": null,
   "metadata": {},
   "outputs": [],
   "source": []
  },
  {
   "cell_type": "code",
   "execution_count": null,
   "metadata": {},
   "outputs": [],
   "source": []
  },
  {
   "cell_type": "markdown",
   "metadata": {},
   "source": [
    "## Exercise 5 : Distance Units"
   ]
  },
  {
   "cell_type": "markdown",
   "metadata": {},
   "source": [
    "- create a program that begins by reading a measurement in feet from the user.\n",
    "- Then your program should display the equivalent distance in inches, yards and metre."
   ]
  },
  {
   "cell_type": "markdown",
   "metadata": {},
   "source": [
    "#### Conversion from one unit to another\n",
    "\n",
    "- 1 foot = 0.3048 metre\n",
    "- 1 foot = 12 inch\n",
    "- 1 foot = 0.333333 yards"
   ]
  },
  {
   "cell_type": "code",
   "execution_count": null,
   "metadata": {},
   "outputs": [],
   "source": [
    "# we will create a varible to get the distance from the user in feet\n",
    "\n",
    "dist_feet=float(input('Enter the distance in feet : '))\n",
    "\n",
    "# we will now directly print the distance in different units to the screen\n",
    "\n",
    "\n",
    "# in metres\n",
    "\n",
    "print(dist_feet,'feet converted to metres is ',dist_feet*0.3048,'metres')\n",
    "\n",
    "# in inches\n",
    "\n",
    "print(dist_feet,'feet converted to inches is ',dist_feet*12,'inches')\n",
    "\n",
    "# in yadrs\n",
    "\n",
    "print(dist_feet,'feet converted to yards is ',dist_feet*0.333333,'yards')"
   ]
  }
 ],
 "metadata": {
  "kernelspec": {
   "display_name": "Python 3",
   "language": "python",
   "name": "python3"
  },
  "language_info": {
   "codemirror_mode": {
    "name": "ipython",
    "version": 3
   },
   "file_extension": ".py",
   "mimetype": "text/x-python",
   "name": "python",
   "nbconvert_exporter": "python",
   "pygments_lexer": "ipython3",
   "version": "3.7.4"
  }
 },
 "nbformat": 4,
 "nbformat_minor": 2
}
