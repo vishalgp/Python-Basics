{
 "cells": [
  {
   "cell_type": "markdown",
   "metadata": {
    "slideshow": {
     "slide_type": "slide"
    }
   },
   "source": [
    "## Installing Python on your machine"
   ]
  },
  {
   "cell_type": "markdown",
   "metadata": {
    "slideshow": {
     "slide_type": "subslide"
    }
   },
   "source": [
    "We will use the anaconda platform which is free and opensource. It has all the required packages and modules with it.<br>"
   ]
  },
  {
   "cell_type": "markdown",
   "metadata": {
    "slideshow": {
     "slide_type": "slide"
    }
   },
   "source": [
    "### Steps to Install Anaconda\n",
    "\n",
    "- Step 1 : Go to the anaconda  website (https://www.anaconda.com/) and click on products tab of menu bar and select Individual Edition or click on this link : https://www.anaconda.com/products/individual\n",
    "- Step 2 : Based on the OS you are using and the weather your system is 32 or 64 bit choose appropriate graphical installer in the list.\n",
    "- Step 3 : Download the anaconda package to your machine (we will be using python 3.7 version)\n",
    "- Step 3_1 : Before installing please check for instructions in the documentation section. use this link : https://docs.anaconda.com/anaconda/\n",
    "- Step 4 : Install the package on your machine and we are ready to use anaconda now.\n",
    "- Step 5 : Open the anaconda Navigator and you will see various packages installed."
   ]
  }
 ],
 "metadata": {
  "celltoolbar": "Slideshow",
  "kernelspec": {
   "display_name": "Python 3",
   "language": "python",
   "name": "python3"
  },
  "language_info": {
   "codemirror_mode": {
    "name": "ipython",
    "version": 3
   },
   "file_extension": ".py",
   "mimetype": "text/x-python",
   "name": "python",
   "nbconvert_exporter": "python",
   "pygments_lexer": "ipython3",
   "version": "3.7.4"
  }
 },
 "nbformat": 4,
 "nbformat_minor": 2
}
