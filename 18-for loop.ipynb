{
 "cells": [
  {
   "cell_type": "markdown",
   "metadata": {},
   "source": [
    "## for loop"
   ]
  },
  {
   "cell_type": "markdown",
   "metadata": {},
   "source": [
    "- The for loop is a generic iterator in Python: \n",
    "    - it can step through the items in any ordered sequence or other iterable object.\n",
    "    - The for statement works on strings, lists, tuples, and other built-in iterables,\n",
    "    - as well as new user-defined objects that we’ll learn how to create later with classes."
   ]
  },
  {
   "cell_type": "markdown",
   "metadata": {},
   "source": [
    "### General format"
   ]
  },
  {
   "cell_type": "code",
   "execution_count": null,
   "metadata": {},
   "outputs": [],
   "source": [
    "for target in object:            # Assign object items to target\n",
    "    statements                   # Repeated loop body: use target\n",
    "else:                            # Optional else part\n",
    "    statements                   # If we didn't hit a 'break'"
   ]
  },
  {
   "cell_type": "markdown",
   "metadata": {},
   "source": [
    "### printing numbers using for loop"
   ]
  },
  {
   "cell_type": "code",
   "execution_count": 4,
   "metadata": {},
   "outputs": [
    {
     "name": "stdout",
     "output_type": "stream",
     "text": [
      "1\n",
      "2\n",
      "3\n",
      "4\n",
      "5\n",
      "6\n",
      "7\n",
      "8\n",
      "9\n"
     ]
    }
   ],
   "source": [
    "# we can print numbers using for loop as we did using while loop\n",
    "for k in range(1,10):\n",
    "    print(k)"
   ]
  },
  {
   "cell_type": "markdown",
   "metadata": {},
   "source": [
    "### advantages of for loop over while loop\n",
    "\n",
    "- it does not require in incrementing the varible\n",
    "- it does not enter in infinite loop"
   ]
  },
  {
   "cell_type": "markdown",
   "metadata": {},
   "source": [
    "### for loop few more examples"
   ]
  },
  {
   "cell_type": "code",
   "execution_count": 9,
   "metadata": {},
   "outputs": [],
   "source": [
    "# let's first use the for loop to create a list\n",
    "# we also use range function\n",
    "# list of numbers from 1 to 10\n",
    "\n",
    "lis1=[k for k in range(1,11,1)]"
   ]
  },
  {
   "cell_type": "code",
   "execution_count": 10,
   "metadata": {},
   "outputs": [
    {
     "data": {
      "text/plain": [
       "[1, 2, 3, 4, 5, 6, 7, 8, 9, 10]"
      ]
     },
     "execution_count": 10,
     "metadata": {},
     "output_type": "execute_result"
    }
   ],
   "source": [
    "lis1"
   ]
  },
  {
   "cell_type": "code",
   "execution_count": 11,
   "metadata": {},
   "outputs": [
    {
     "name": "stdout",
     "output_type": "stream",
     "text": [
      "square of  1 is 1\n",
      "square of  2 is 4\n",
      "square of  3 is 9\n",
      "square of  4 is 16\n",
      "square of  5 is 25\n",
      "square of  6 is 36\n",
      "square of  7 is 49\n",
      "square of  8 is 64\n",
      "square of  9 is 81\n",
      "square of  10 is 100\n"
     ]
    }
   ],
   "source": [
    "# Now we write a program to output square of the item in lis1\n",
    "\n",
    "for i in lis1:\n",
    "    print('square of ',i,'is',i**2)"
   ]
  },
  {
   "cell_type": "markdown",
   "metadata": {},
   "source": [
    "### use of break statement\n",
    "- Jumps out of the closest enclosing loop (past the entire loop statement)"
   ]
  },
  {
   "cell_type": "code",
   "execution_count": 13,
   "metadata": {},
   "outputs": [
    {
     "name": "stdout",
     "output_type": "stream",
     "text": [
      "square of  1 is 1\n",
      "square of  2 is 4\n",
      "square of  3 is 9\n",
      "square of  4 is 16\n",
      "square of  5 is 25\n",
      "square of  6 is 36\n",
      "square of  7 is 49\n"
     ]
    }
   ],
   "source": [
    "# Let's break the loop when i=5\n",
    "\n",
    "for i in lis1:\n",
    "    if i==8:\n",
    "        break\n",
    "    print('square of ',i,'is',i**2)"
   ]
  },
  {
   "cell_type": "markdown",
   "metadata": {},
   "source": [
    "### continue statements\n",
    " - The continue statement causes an immediate jump to the top of a loop."
   ]
  },
  {
   "cell_type": "code",
   "execution_count": 16,
   "metadata": {},
   "outputs": [
    {
     "name": "stdout",
     "output_type": "stream",
     "text": [
      "square of  1 is 1\n",
      "square of  3 is 9\n",
      "square of  5 is 25\n",
      "square of  7 is 49\n",
      "square of  9 is 81\n"
     ]
    }
   ],
   "source": [
    "# Let's break the loop when i=5\n",
    "\n",
    "for i in lis1:\n",
    "    if i%2==0:\n",
    "        continue\n",
    "    print('square of ',i,'is',i**2)"
   ]
  },
  {
   "cell_type": "markdown",
   "metadata": {},
   "source": [
    "### pass statement\n",
    "\n",
    "- Does nothing at all: it’s an empty statement placeholder"
   ]
  },
  {
   "cell_type": "code",
   "execution_count": 17,
   "metadata": {},
   "outputs": [
    {
     "name": "stdout",
     "output_type": "stream",
     "text": [
      "square of  1 is 1\n",
      "square of  2 is 4\n",
      "square of  3 is 9\n",
      "square of  4 is 16\n",
      "square of  5 is 25\n",
      "square of  6 is 36\n",
      "square of  7 is 49\n",
      "square of  8 is 64\n",
      "square of  9 is 81\n",
      "square of  10 is 100\n"
     ]
    }
   ],
   "source": [
    "# Let's break the loop when i=5\n",
    "\n",
    "for i in lis1:\n",
    "    if i%2==0:\n",
    "        pass\n",
    "    print('square of ',i,'is',i**2)"
   ]
  },
  {
   "cell_type": "markdown",
   "metadata": {},
   "source": [
    "### else statement"
   ]
  },
  {
   "cell_type": "code",
   "execution_count": 19,
   "metadata": {},
   "outputs": [
    {
     "name": "stdout",
     "output_type": "stream",
     "text": [
      "Current number is 0\n",
      "Current number is 1\n",
      "Current number is 2\n",
      "Current number is 3\n",
      "Current number is 4\n",
      "Current number is 5\n",
      "Current number is 6\n",
      "Current number is 7\n",
      "Current number is 8\n",
      "Current number is 9\n",
      "Finally finished\n"
     ]
    }
   ],
   "source": [
    "# let's now use the else statememnt with for loop\n",
    "\n",
    "for i in range(10):\n",
    "    print('Current number is',i)\n",
    "else:\n",
    "    print('Finally finished')\n"
   ]
  },
  {
   "cell_type": "markdown",
   "metadata": {},
   "source": [
    "### Nested for loops"
   ]
  },
  {
   "cell_type": "code",
   "execution_count": 20,
   "metadata": {},
   "outputs": [
    {
     "name": "stdout",
     "output_type": "stream",
     "text": [
      "smart kitten\n",
      "smart puppy\n",
      "cute kitten\n",
      "cute puppy\n",
      "special kitten\n",
      "special puppy\n"
     ]
    }
   ],
   "source": [
    "# Let,s create two lists\n",
    "\n",
    "lis2=['smart','cute','special']\n",
    "lis3=['kitten','puppy']\n",
    "\n",
    "# we now use nested loops to print a few messeges\n",
    "\n",
    "for x in lis2:\n",
    "    for y in lis3:\n",
    "        print(x,y)"
   ]
  },
  {
   "cell_type": "code",
   "execution_count": null,
   "metadata": {},
   "outputs": [],
   "source": []
  }
 ],
 "metadata": {
  "kernelspec": {
   "display_name": "Python 3",
   "language": "python",
   "name": "python3"
  },
  "language_info": {
   "codemirror_mode": {
    "name": "ipython",
    "version": 3
   },
   "file_extension": ".py",
   "mimetype": "text/x-python",
   "name": "python",
   "nbconvert_exporter": "python",
   "pygments_lexer": "ipython3",
   "version": "3.7.4"
  }
 },
 "nbformat": 4,
 "nbformat_minor": 2
}
