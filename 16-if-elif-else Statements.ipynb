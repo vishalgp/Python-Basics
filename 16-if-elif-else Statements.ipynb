{
 "cells": [
  {
   "cell_type": "markdown",
   "metadata": {
    "slideshow": {
     "slide_type": "slide"
    }
   },
   "source": [
    "## If-elif-else Statements"
   ]
  },
  {
   "cell_type": "markdown",
   "metadata": {
    "slideshow": {
     "slide_type": "slide"
    }
   },
   "source": [
    "- Python if statement, is the main statement used for selecting from alternative actions based on test results.\n",
    "- In simple terms, the Python if statement selects actions to perform.\n",
    "- Along with its expression counterpart, it’s the primary selection tool in Python and represents much of the logic a Python program possesses.\n",
    "- It’s also our first compound statement.i.e statements that embed other statements."
   ]
  },
  {
   "cell_type": "markdown",
   "metadata": {
    "slideshow": {
     "slide_type": "slide"
    }
   },
   "source": [
    "### General format of if-elif-else statements"
   ]
  },
  {
   "cell_type": "code",
   "execution_count": null,
   "metadata": {
    "slideshow": {
     "slide_type": "fragment"
    }
   },
   "outputs": [],
   "source": [
    "# Here's the general format of the if statement\n",
    "\n",
    "if test1:            # if test\n",
    "    statements1      # Associated block\n",
    "elif test2:          # optional elifs s\n",
    "    ststements2\n",
    "else:                # optional else\n",
    "    statements3"
   ]
  },
  {
   "cell_type": "markdown",
   "metadata": {
    "slideshow": {
     "slide_type": "fragment"
    }
   },
   "source": [
    "- Observe the syntax after the if statement ends we have a colon\n",
    "- and the associated block is indented automatically\n",
    "- indentation is must in python programming when using compound statements\n",
    "- it helps readability of the code very easy."
   ]
  },
  {
   "cell_type": "markdown",
   "metadata": {
    "slideshow": {
     "slide_type": "slide"
    }
   },
   "source": [
    "### Examples of if statements"
   ]
  },
  {
   "cell_type": "markdown",
   "metadata": {
    "slideshow": {
     "slide_type": "fragment"
    }
   },
   "source": [
    "- we will learn by examples\n",
    " - Example 1:\n",
    "    - Write a program to take input from the user and make a comment about it\n",
    "    - like Number is equal to zero, less than zero or greater than zero etc"
   ]
  },
  {
   "cell_type": "markdown",
   "metadata": {
    "slideshow": {
     "slide_type": "subslide"
    }
   },
   "source": [
    "#### Using single if"
   ]
  },
  {
   "cell_type": "code",
   "execution_count": 2,
   "metadata": {
    "slideshow": {
     "slide_type": "fragment"
    }
   },
   "outputs": [
    {
     "name": "stdout",
     "output_type": "stream",
     "text": [
      "Enter a Number : 12\n"
     ]
    }
   ],
   "source": [
    "# we use the if statement to test weather a number is equal to zero.\n",
    "# The program prints a message when number entered is equal to zero.\n",
    "# When the number entered is not equal to zero the program does not \n",
    "# print any message and terminates.\n",
    "\n",
    "num = int(input('Enter a Number : '))   # ask input from the user \n",
    "\n",
    "if num==0:\n",
    "    print('Number entered is Equal to Zero') "
   ]
  },
  {
   "cell_type": "markdown",
   "metadata": {
    "slideshow": {
     "slide_type": "subslide"
    }
   },
   "source": [
    "#### Using two ifs "
   ]
  },
  {
   "cell_type": "code",
   "execution_count": 4,
   "metadata": {
    "slideshow": {
     "slide_type": "fragment"
    }
   },
   "outputs": [
    {
     "name": "stdout",
     "output_type": "stream",
     "text": [
      "Enter a Number : 12\n",
      "Number entered is not Equal to Zero\n"
     ]
    }
   ],
   "source": [
    "# We modifiy the previous code a bit\n",
    "# we add another if and print a message if number is not equal to zero\n",
    "\n",
    "num = int(input('Enter a Number : '))   # ask input from the user \n",
    "\n",
    "if num==0:\n",
    "    print('Number entered is Equal to Zero')\n",
    "if num!=0:\n",
    "    print('Number entered is not Equal to Zero')"
   ]
  },
  {
   "cell_type": "markdown",
   "metadata": {
    "slideshow": {
     "slide_type": "slide"
    }
   },
   "source": [
    "#### using if and else"
   ]
  },
  {
   "cell_type": "code",
   "execution_count": 8,
   "metadata": {
    "slideshow": {
     "slide_type": "fragment"
    }
   },
   "outputs": [
    {
     "name": "stdout",
     "output_type": "stream",
     "text": [
      "Enter a Number : 23\n",
      "Number entered is not Equal to Zero\n"
     ]
    }
   ],
   "source": [
    "# Now let's re-write the code of previous example using if and else statements\n",
    "\n",
    "num = int(input('Enter a Number : '))   # ask input from the user \n",
    "\n",
    "if num==0:\n",
    "    print('Number entered is Equal to Zero')\n",
    "else:\n",
    "    print('Number entered is not Equal to Zero')"
   ]
  },
  {
   "cell_type": "markdown",
   "metadata": {
    "slideshow": {
     "slide_type": "fragment"
    }
   },
   "source": [
    "#### Using an if-else statement is preferable because \n",
    "- only one condition needs to be written, \n",
    "- only one condition needs to be evaluated when the program executes, and\n",
    "- only one condition needs to be corrected if a bug is discovered at some point in the future."
   ]
  },
  {
   "cell_type": "markdown",
   "metadata": {
    "slideshow": {
     "slide_type": "slide"
    }
   },
   "source": [
    "### using if-elifs-else"
   ]
  },
  {
   "cell_type": "markdown",
   "metadata": {
    "slideshow": {
     "slide_type": "fragment"
    }
   },
   "source": [
    "- An if-elif-else statement is used to execute exactly one of several alternatives.\n",
    "- The statement begins with an if part, followed by one or more elif parts, followed by an else part. \n",
    "- All of these parts must include a body that is indented. \n",
    "- Each of the if and elif parts must also include a condition that evaluates to either True or False."
   ]
  },
  {
   "cell_type": "markdown",
   "metadata": {
    "slideshow": {
     "slide_type": "subslide"
    }
   },
   "source": [
    "- The execution starts with first if ,all other statements are skipped if first 'if' is TRUE and only body of this if is executed.\n",
    "- if the 'if' statemens turns out to be FALSE, elif statements are checked and which ever turns out to be TRUE the body of that elif statement is executed.\n",
    "- The body of else statement is executed if all elifs are FALSE"
   ]
  },
  {
   "cell_type": "code",
   "execution_count": 11,
   "metadata": {
    "slideshow": {
     "slide_type": "subslide"
    }
   },
   "outputs": [
    {
     "name": "stdout",
     "output_type": "stream",
     "text": [
      "Enter a Number : 0\n",
      "Number entered is Equal to Zero\n"
     ]
    }
   ],
   "source": [
    "# Let's now use an elif statement to edit our previous code and make it print a few extra msg\n",
    "# such as number is positive or negetive \n",
    "\n",
    "num = int(input('Enter a Number : '))   # ask input from the user \n",
    "\n",
    "if num>0:\n",
    "    print('Number entered is Positive')\n",
    "elif num<0:\n",
    "    print('Number entered is Negetive')\n",
    "else:\n",
    "    print('Number entered is Equal to Zero')"
   ]
  },
  {
   "cell_type": "markdown",
   "metadata": {
    "slideshow": {
     "slide_type": "slide"
    }
   },
   "source": [
    "#### Using If-Elif Statements"
   ]
  },
  {
   "cell_type": "markdown",
   "metadata": {
    "slideshow": {
     "slide_type": "fragment"
    }
   },
   "source": [
    "- The else that appears at the end of an if-elif-else statement is optional.\n",
    "- When the else is present, the statement selects exactly one of several options.\n",
    "- Omitting the else selects at most one of several options. When an if-elif statement is used, none of the bodies execute when all of the conditions evaluate to False. \n",
    "- Whether one of the bodies executes, or not, the program will continue executing at the first statement after the body of the final elif part."
   ]
  },
  {
   "cell_type": "code",
   "execution_count": 14,
   "metadata": {
    "slideshow": {
     "slide_type": "subslide"
    }
   },
   "outputs": [
    {
     "name": "stdout",
     "output_type": "stream",
     "text": [
      "Enter a Number : 0\n",
      "Number entered is Equal to Zero\n"
     ]
    }
   ],
   "source": [
    "# we now modify our last example to use only if and elifs\n",
    "\n",
    "num = int(input('Enter a Number : '))   # ask input from the user \n",
    "\n",
    "if num>0:\n",
    "    print('Number entered is Positive')\n",
    "elif num<0:\n",
    "    print('Number entered is Negetive')\n",
    "elif num==0:\n",
    "    print('Number entered is Equal to Zero')"
   ]
  },
  {
   "cell_type": "markdown",
   "metadata": {
    "slideshow": {
     "slide_type": "slide"
    }
   },
   "source": [
    "#### Using Nested If Statements"
   ]
  },
  {
   "cell_type": "markdown",
   "metadata": {
    "slideshow": {
     "slide_type": "fragment"
    }
   },
   "source": [
    "- The body of any if part, elif part or else part of any type of if statement can contain (almost) any Python statement,\n",
    "- including another if, if-else, if-elif or if-elif-else statement. When one if statement (of any type) appears in the body of another if statement (of any type) the if statements are said to be nested."
   ]
  },
  {
   "cell_type": "code",
   "execution_count": 19,
   "metadata": {
    "slideshow": {
     "slide_type": "subslide"
    }
   },
   "outputs": [
    {
     "name": "stdout",
     "output_type": "stream",
     "text": [
      "Enter a Number : 123456\n",
      "Number is too big\n"
     ]
    }
   ],
   "source": [
    "# we will now add a if and elif inside the if statement\n",
    "\n",
    "num = int(input('Enter a Number : '))   # ask input from the user \n",
    "\n",
    "if num>0:\n",
    "    if num>100000:\n",
    "        print('Number is too big')\n",
    "    elif 100000>num>1000:           # here we are adding entire if-elif-else inside a if statement\n",
    "        print('Number is big')\n",
    "    else:\n",
    "        print('Number is small')\n",
    "    \n",
    "elif num<0:\n",
    "    print('Number entered is Negetive')\n",
    "else:\n",
    "    print('Number entered is Equal to Zero')"
   ]
  },
  {
   "cell_type": "markdown",
   "metadata": {
    "slideshow": {
     "slide_type": "fragment"
    }
   },
   "source": [
    "- We will now solve a few examples"
   ]
  }
 ],
 "metadata": {
  "kernelspec": {
   "display_name": "Python 3",
   "language": "python",
   "name": "python3"
  },
  "language_info": {
   "codemirror_mode": {
    "name": "ipython",
    "version": 3
   },
   "file_extension": ".py",
   "mimetype": "text/x-python",
   "name": "python",
   "nbconvert_exporter": "python",
   "pygments_lexer": "ipython3",
   "version": "3.7.4"
  }
 },
 "nbformat": 4,
 "nbformat_minor": 2
}
