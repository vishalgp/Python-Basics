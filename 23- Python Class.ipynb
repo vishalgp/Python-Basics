{
 "cells": [
  {
   "cell_type": "markdown",
   "metadata": {},
   "source": [
    "## Classes"
   ]
  },
  {
   "cell_type": "markdown",
   "metadata": {},
   "source": [
    "- Classes provide a means of bundling data and functionality together.\n",
    "- Creating a new class creates a new type of object, allowing new instances of that type to be made. "
   ]
  },
  {
   "cell_type": "markdown",
   "metadata": {},
   "source": [
    "### Creating and using classes"
   ]
  },
  {
   "cell_type": "markdown",
   "metadata": {},
   "source": [
    "- classes have both variables and functions defined inside them\n",
    "- these are known as attributes and methods respectively\n",
    "\n",
    "##### attributes\n",
    "\n",
    "- Variables that are accessible through instances are called attributes\n",
    "\n",
    "##### methods\n",
    "\n",
    "- A function that's part of a class is a method\n",
    "\n",
    "##### instantiation\n",
    "\n",
    "- making an object fom a class is called instantiation and you work with instances of class"
   ]
  },
  {
   "cell_type": "markdown",
   "metadata": {},
   "source": [
    "### let's Understand through examples"
   ]
  },
  {
   "cell_type": "code",
   "execution_count": null,
   "metadata": {},
   "outputs": [],
   "source": [
    "# we will create a student class which represents a student\n",
    "\n",
    "# we create a class using class keyword , then name of the class is given\n",
    "# after that paranthesis and then semicolon\n",
    "\n",
    "class Student():\n",
    "    \n",
    "    # the first function inside a class should be __init__  function\n",
    "    # The __init__ method is a special method python runs automatically whenever we create a new \n",
    "    # instance based on this class\n",
    "    # self parameter is the first parameter in the init method\n",
    "    \n",
    "    def __init__ (self,name,grade): # values for parameters defined here should be given at the \n",
    "                                    # time of creting an instance of the class\n",
    "        \n",
    "        self.name=name\n",
    "        self.grade=grade\n",
    "        \n",
    "        \n",
    "    # we will now  define a function or method which will introduce the students\n",
    "    \n",
    "    def intro(self):\n",
    "        \"\"\" In this method student will introduce himself\"\"\"\n",
    "        print(\"Hello my name is \"+ self.name.title()+\" \\nI am in \"+str(self.grade).title()+\" grade\")\n",
    "        \n",
    "        \n",
    "    # Let's add another method \n",
    "    \n",
    "    def play_game(self,game='footbal'):\n",
    "        \n",
    "        \"\"\" We will make the student play a game which he likes\"\"\"\n",
    "        \n",
    "        print(\"I am playing \"+game)\n",
    "        \n",
    "    # another method\n",
    "    \n",
    "    def school_over(self):\n",
    "        \"\"\"send student to home as school timings are over\"\"\"\n",
    "        \n",
    "        print('I am done for the day at school , now i am going home')"
   ]
  },
  {
   "cell_type": "markdown",
   "metadata": {},
   "source": [
    "### Making an instance from a class"
   ]
  },
  {
   "cell_type": "code",
   "execution_count": null,
   "metadata": {},
   "outputs": [],
   "source": [
    "# Lets now create an instance of the class\n",
    "\n",
    "student1=Student('harry potter','sixth')"
   ]
  },
  {
   "cell_type": "markdown",
   "metadata": {},
   "source": [
    "### Acessing attributes"
   ]
  },
  {
   "cell_type": "code",
   "execution_count": null,
   "metadata": {},
   "outputs": [],
   "source": [
    "# now lets try to acess the attributes\n",
    "\n",
    "student1.name"
   ]
  },
  {
   "cell_type": "code",
   "execution_count": null,
   "metadata": {},
   "outputs": [],
   "source": [
    "student1.grade"
   ]
  },
  {
   "cell_type": "markdown",
   "metadata": {},
   "source": [
    "### calling methods"
   ]
  },
  {
   "cell_type": "code",
   "execution_count": null,
   "metadata": {
    "scrolled": true
   },
   "outputs": [],
   "source": [
    "# Now lets try to call the intro method\n",
    "\n",
    "student1.intro()"
   ]
  },
  {
   "cell_type": "code",
   "execution_count": null,
   "metadata": {},
   "outputs": [],
   "source": [
    "# another method\n",
    "student1.play_game()"
   ]
  },
  {
   "cell_type": "code",
   "execution_count": null,
   "metadata": {},
   "outputs": [],
   "source": [
    "# enter the game other than default\n",
    "\n",
    "student1.play_game('cricket')"
   ]
  },
  {
   "cell_type": "markdown",
   "metadata": {},
   "source": [
    "###  Making Multiple instance from a class"
   ]
  },
  {
   "cell_type": "code",
   "execution_count": null,
   "metadata": {},
   "outputs": [],
   "source": [
    "student2=Student('ron','sixth')\n",
    "student3=Student('hermine','sixth')"
   ]
  },
  {
   "cell_type": "code",
   "execution_count": null,
   "metadata": {},
   "outputs": [],
   "source": [
    "# lets now call methods on each\n",
    "\n",
    "student2.intro()"
   ]
  },
  {
   "cell_type": "code",
   "execution_count": null,
   "metadata": {
    "scrolled": false
   },
   "outputs": [],
   "source": [
    "student3.intro()"
   ]
  },
  {
   "cell_type": "markdown",
   "metadata": {},
   "source": [
    "### Setting default values in attributes"
   ]
  },
  {
   "cell_type": "code",
   "execution_count": 6,
   "metadata": {},
   "outputs": [],
   "source": [
    "# Let's add a new attribute to our class\n",
    "\n",
    "class Student():\n",
    "    \n",
    "    def __init__ (self,name,grade):\n",
    "        self.name=name\n",
    "        self.grade=grade\n",
    "        self.school='Hogwarts'  # here i am defining a attribute with default value \n",
    "        \n",
    "    def intro(self):\n",
    "        \"\"\" In this method student will introduce himself\"\"\"\n",
    "        print(\"Hello my name is \"+ self.name.title()+\" \\nI am in \"+str(self.grade).title()+\" grade\")\n",
    "        \n",
    "    def play_game(self,game='footbal'):\n",
    "        \n",
    "        \"\"\" We will make the student play a game which he likes\"\"\"\n",
    "        \n",
    "        print(\"I am playing \"+game)\n",
    "    def school_over(self):\n",
    "        \"\"\"send student to home as school timings are over\"\"\"\n",
    "        \n",
    "        print('I am done for the day at school , now i am going home')"
   ]
  },
  {
   "cell_type": "code",
   "execution_count": 7,
   "metadata": {},
   "outputs": [],
   "source": [
    "# Let's create a new instance\n",
    "\n",
    "student4=Student('ginny','eigth')"
   ]
  },
  {
   "cell_type": "code",
   "execution_count": 8,
   "metadata": {},
   "outputs": [
    {
     "data": {
      "text/plain": [
       "'Hogwarts'"
      ]
     },
     "execution_count": 8,
     "metadata": {},
     "output_type": "execute_result"
    }
   ],
   "source": [
    "# Let's acess the attribute now\n",
    "student4.school"
   ]
  },
  {
   "cell_type": "markdown",
   "metadata": {},
   "source": [
    "### Modifying attribute value "
   ]
  },
  {
   "cell_type": "code",
   "execution_count": null,
   "metadata": {},
   "outputs": [],
   "source": [
    "# we can modify the attribute value directly like below\n",
    "\n",
    "student4.school='New york Public School'"
   ]
  },
  {
   "cell_type": "code",
   "execution_count": null,
   "metadata": {},
   "outputs": [],
   "source": [
    "# let's Now check the attribute value\n",
    "\n",
    "student4.school"
   ]
  }
 ],
 "metadata": {
  "kernelspec": {
   "display_name": "Python 3",
   "language": "python",
   "name": "python3"
  },
  "language_info": {
   "codemirror_mode": {
    "name": "ipython",
    "version": 3
   },
   "file_extension": ".py",
   "mimetype": "text/x-python",
   "name": "python",
   "nbconvert_exporter": "python",
   "pygments_lexer": "ipython3",
   "version": "3.7.4"
  }
 },
 "nbformat": 4,
 "nbformat_minor": 2
}
