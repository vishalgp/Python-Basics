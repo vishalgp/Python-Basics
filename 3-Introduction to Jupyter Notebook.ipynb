{
 "cells": [
  {
   "cell_type": "markdown",
   "metadata": {
    "slideshow": {
     "slide_type": "slide"
    }
   },
   "source": [
    "## Introduction to Jupyter Notebook"
   ]
  },
  {
   "cell_type": "markdown",
   "metadata": {
    "slideshow": {
     "slide_type": "slide"
    }
   },
   "source": [
    "- The Jupyter Notebook is an open-source web application that allows you to\n",
    "  - create and share documents that contain \n",
    "    - live code,\n",
    "    - equations, \n",
    "    - visualizations and\n",
    "    - narrative text"
   ]
  },
  {
   "cell_type": "markdown",
   "metadata": {
    "slideshow": {
     "slide_type": "slide"
    }
   },
   "source": [
    "The Jupyter notebook combines two components:<br>\n",
    "### A web application:\n",
    "a browser-based tool for interactive authoring of documents which combine explanatory text, mathematics, computations and their rich media output.\n",
    "\n",
    "### Notebook documents: \n",
    "a representation of all content visible in the web application, including inputs and outputs of the computations, explanatory text, mathematics, images, and rich media representations of objects."
   ]
  },
  {
   "cell_type": "markdown",
   "metadata": {
    "slideshow": {
     "slide_type": "slide"
    }
   },
   "source": [
    "## Starting Jupyter Notebook\n",
    "\n",
    "- Jupyter notebook can be started in following ways\n",
    "  - Using the Anaconda Navigator\n",
    "  - Using the Anaconda promt\n",
    "  - Using the Windows Home button"
   ]
  },
  {
   "cell_type": "markdown",
   "metadata": {
    "slideshow": {
     "slide_type": "slide"
    }
   },
   "source": [
    "## Using Jupyter in Slides mode\n",
    "\n",
    "- we can create presentation ready slides using nbconvert.<br>\n",
    "- we can add a nbconvert extension RISE which allows us to create live presentations i.e we can edit the code and run in presentation mode.<br>"
   ]
  },
  {
   "cell_type": "markdown",
   "metadata": {
    "slideshow": {
     "slide_type": "fragment"
    }
   },
   "source": [
    "## Installing RISE extension\n",
    "\n",
    "- Go through the video in this link to Install RSIE extension\n",
    "- https://www.youtube.com/watch?v=utNl9f3gqYQ"
   ]
  },
  {
   "cell_type": "markdown",
   "metadata": {
    "slideshow": {
     "slide_type": "slide"
    }
   },
   "source": [
    "## Jupyter Notebook Shortcuts\n",
    "\n",
    "- To run the code in current cell \n",
    "  - Shift+Enter\n",
    "  "
   ]
  },
  {
   "cell_type": "markdown",
   "metadata": {
    "slideshow": {
     "slide_type": "fragment"
    }
   },
   "source": [
    "- To run the code in current cell and add a new cell below\n",
    "  - Alt+Enter"
   ]
  },
  {
   "cell_type": "markdown",
   "metadata": {
    "slideshow": {
     "slide_type": "fragment"
    }
   },
   "source": [
    "- To select multiple cells\n",
    "  - ctlr+Shift\n",
    "  \n",
    "- To run these cells \n",
    "  - Shift+Enter"
   ]
  },
  {
   "cell_type": "markdown",
   "metadata": {
    "slideshow": {
     "slide_type": "slide"
    }
   },
   "source": [
    "## More on Jupyter Notebook\n",
    "\n",
    "- if you want to know more about jupyter notebook environment please go through the links below\n",
    "- for projects by jupyter : https://jupyter.org/\n",
    "- for documentation on jupyter notebook : https://jupyter-notebook.readthedocs.io/en/stable/"
   ]
  }
 ],
 "metadata": {
  "celltoolbar": "Slideshow",
  "kernelspec": {
   "display_name": "Python 3",
   "language": "python",
   "name": "python3"
  },
  "language_info": {
   "codemirror_mode": {
    "name": "ipython",
    "version": 3
   },
   "file_extension": ".py",
   "mimetype": "text/x-python",
   "name": "python",
   "nbconvert_exporter": "python",
   "pygments_lexer": "ipython3",
   "version": "3.7.4"
  }
 },
 "nbformat": 4,
 "nbformat_minor": 2
}
