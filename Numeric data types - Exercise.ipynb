{
 "cells": [
  {
   "cell_type": "markdown",
   "metadata": {
    "slideshow": {
     "slide_type": "slide"
    }
   },
   "source": [
    "## Exercise 1 : Display birth year\n",
    "\n",
    "- Take the age of a person as input\n",
    "- print the year in which the person was born on the screen"
   ]
  },
  {
   "cell_type": "markdown",
   "metadata": {
    "slideshow": {
     "slide_type": "slide"
    }
   },
   "source": [
    "## Exercise 2 : Build a complex number\n",
    "\n",
    "- take real and imaginary parts as inputs\n",
    "- display the complex number to screen\n",
    "- display it's absolute value to the screen"
   ]
  },
  {
   "cell_type": "markdown",
   "metadata": {
    "slideshow": {
     "slide_type": "slide"
    }
   },
   "source": [
    "## Exercise 3 : sum of first n positive integers\n",
    "\n",
    "- write a program which takes input as a number n\n",
    "- and gives sum of first n positive integers"
   ]
  },
  {
   "cell_type": "markdown",
   "metadata": {
    "slideshow": {
     "slide_type": "slide"
    }
   },
   "source": [
    "## Exercise 4 : Arithmatic\n",
    "\n",
    "- Create a program that reads two integers, a and b, from the user\n",
    "- Your program should compute and display:\n",
    "  - The sum of a and b\n",
    "  - The difference when b is subtracted from a\n",
    "  - The product of a and b\n",
    "  - The quotient when a is divided by b\n",
    "  - The remainder when a is divided by b\n",
    "  - The result of $log_{10}a$\n",
    "  - The result of $a^b$"
   ]
  },
  {
   "cell_type": "markdown",
   "metadata": {
    "slideshow": {
     "slide_type": "slide"
    }
   },
   "source": [
    "## Exercise 5 : Distance Units\n",
    "\n",
    "- create a program that begins by reading a measurement in feet from the user.\n",
    "- Then your program should display the equivalent distance in inches, yards and miles."
   ]
  }
 ],
 "metadata": {
  "kernelspec": {
   "display_name": "Python 3",
   "language": "python",
   "name": "python3"
  },
  "language_info": {
   "codemirror_mode": {
    "name": "ipython",
    "version": 3
   },
   "file_extension": ".py",
   "mimetype": "text/x-python",
   "name": "python",
   "nbconvert_exporter": "python",
   "pygments_lexer": "ipython3",
   "version": "3.7.4"
  }
 },
 "nbformat": 4,
 "nbformat_minor": 2
}
