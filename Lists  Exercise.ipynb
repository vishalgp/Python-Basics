{
 "cells": [
  {
   "cell_type": "markdown",
   "metadata": {},
   "source": [
    "### Example 1 : Display a list in required order\n",
    "\n",
    "- Given a list\n",
    "   - alis=[200,400,500,100,300]\n",
    "- Write a program to display the list as below\n",
    "   - [100, 200, 300, 400, 500]\n",
    "   - [500, 400, 300, 200, 100]"
   ]
  },
  {
   "cell_type": "markdown",
   "metadata": {},
   "source": [
    "### Example 2 : Modify the list as below\n",
    "\n",
    "- Given a list \n",
    "   - list1 = [5, 10, 15, 20, 25, 50, 20]\n",
    "- Write a program to \n",
    "   - find a value 20 in the list and \n",
    "   - replace the first occurance of \n",
    "   - element 20 to 200"
   ]
  },
  {
   "cell_type": "markdown",
   "metadata": {},
   "source": [
    "### Example 3 : number,sum ,average of numbers in a list\n",
    "\n",
    "- Given a list\n",
    "  - list2=[123,45,87,98,32,9,21,56]\n",
    "- write a program to\n",
    "    - find number of elements in the list\n",
    "    - find the sum of all elements in the list\n",
    "    - find the average of elements of the list"
   ]
  },
  {
   "cell_type": "markdown",
   "metadata": {},
   "source": [
    "### Example 4 : min,max in the list\n",
    "\n",
    "- Given a list\n",
    "   - list3=[2,7,34,65,76,8,4]\n",
    "- write a program to\n",
    "   - find the minimun value and it's index in the list\n",
    "   - find the maximum value and it's index in the list\n",
    "   - Hint : use the min() and max()"
   ]
  },
  {
   "cell_type": "markdown",
   "metadata": {},
   "source": [
    "### Example 5 : Shuffle the list\n",
    "\n",
    "- Given a list\n",
    "  - color = ['Red', 'Green', 'White', 'Black', 'Pink', 'Yellow']\n",
    "- write a program to \n",
    "  - shuffle the elements of the list\n",
    "  - print the shuffled list to the screen\n",
    "  - Hint : import the shuffle function from random module "
   ]
  }
 ],
 "metadata": {
  "kernelspec": {
   "display_name": "Python 3",
   "language": "python",
   "name": "python3"
  },
  "language_info": {
   "codemirror_mode": {
    "name": "ipython",
    "version": 3
   },
   "file_extension": ".py",
   "mimetype": "text/x-python",
   "name": "python",
   "nbconvert_exporter": "python",
   "pygments_lexer": "ipython3",
   "version": "3.7.4"
  }
 },
 "nbformat": 4,
 "nbformat_minor": 2
}
