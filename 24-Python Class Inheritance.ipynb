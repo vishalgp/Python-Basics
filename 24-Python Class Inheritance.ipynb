{
 "cells": [
  {
   "cell_type": "markdown",
   "metadata": {},
   "source": [
    "## Python Class Inheritance"
   ]
  },
  {
   "cell_type": "markdown",
   "metadata": {},
   "source": [
    "- You don’t always have to start from scratch when writing a class. \n",
    "- If the class you’re writing is a specialized version of another class you wrote, you can use inheritance.\n",
    "- When one class inherits from another, it takes on the attributes and methods of the first class. The original class is called the parent class, and the new class is the child class.\n",
    "- The child class can inherit any or all of the attributes and methods of its parent class, but it’s also free to define new attributes and methods of its own."
   ]
  },
  {
   "cell_type": "markdown",
   "metadata": {},
   "source": [
    "### Let's understand the concept trhough examples"
   ]
  },
  {
   "cell_type": "code",
   "execution_count": 1,
   "metadata": {},
   "outputs": [],
   "source": [
    "# First we will rewrite the Student class we wrote in our last lecture\n",
    "\n",
    "class Student():\n",
    "    \n",
    "    def __init__ (self,name,grade):\n",
    "        self.name=name\n",
    "        self.grade=grade\n",
    "        self.school='Hogwarts'  # here i am defining a attribute with default value \n",
    "        \n",
    "    def intro(self):\n",
    "        \"\"\" In this method student will introduce himself\"\"\"\n",
    "        print(\"Hello my name is \"+ self.name.title()+\" \\nI am in \"+str(self.grade).title()+\" grade\")\n",
    "        \n",
    "    def play_game(self,game='footbal'):\n",
    "        \n",
    "        \"\"\" We will make the student play a game which he likes\"\"\"\n",
    "        \n",
    "        print(\"I am playing \"+game)\n",
    "    def school_over(self):\n",
    "        \"\"\"send student to home as school timings are over\"\"\"\n",
    "        \n",
    "        print('I am done for the day at school , now i am going home')"
   ]
  },
  {
   "cell_type": "markdown",
   "metadata": {},
   "source": [
    "- Now let's create a new class named appearance\n",
    "- This class has methods and attributes about appearance of a student\n",
    "- we want it to also have all the attributes of the student class\n",
    "\n",
    "#### The Student class is called parent class and Appearance class is called child class  "
   ]
  },
  {
   "cell_type": "code",
   "execution_count": 2,
   "metadata": {},
   "outputs": [],
   "source": [
    "# let's now create a new class hobby\n",
    "\n",
    "class Appearance(Student):     # the parent class name is given in the paranthesis\n",
    "    \n",
    "    # the init method of child class should also have all the parameters required to define\n",
    "    # the parent class apart from its own parameters\n",
    "    \n",
    "    def __init__(self,name,grade):\n",
    "        \n",
    "        # to link the parent class to child class we use the super function\n",
    "        # we also give all the parameters required to initiate the parent class\n",
    "        \n",
    "        super().__init__(name,grade)\n",
    "        \n",
    "    "
   ]
  },
  {
   "cell_type": "markdown",
   "metadata": {},
   "source": [
    "## Note :\n",
    "   - to get the information about the inputs required to make a instance of a class\n",
    "   - click shift+Tab after wiriting the name of class for example\n",
    "   - stud1=Appearance ... after this click shift_tab"
   ]
  },
  {
   "cell_type": "code",
   "execution_count": 45,
   "metadata": {},
   "outputs": [],
   "source": [
    "# Let's now create a instance of this class\n",
    "\n",
    "stud1=Appearance('harry','sixth')"
   ]
  },
  {
   "cell_type": "code",
   "execution_count": 23,
   "metadata": {},
   "outputs": [
    {
     "data": {
      "text/plain": [
       "'harry'"
      ]
     },
     "execution_count": 23,
     "metadata": {},
     "output_type": "execute_result"
    }
   ],
   "source": [
    "# Let's now check if all attributes and methods of Student class are accible\n",
    "stud1.name"
   ]
  },
  {
   "cell_type": "code",
   "execution_count": 25,
   "metadata": {
    "scrolled": true
   },
   "outputs": [
    {
     "name": "stdout",
     "output_type": "stream",
     "text": [
      "Hello my name is Harry \n",
      "I am in Sixth grade\n"
     ]
    }
   ],
   "source": [
    "# Let's see now if we can acess the methods of Student class\n",
    "stud1.intro()"
   ]
  },
  {
   "cell_type": "markdown",
   "metadata": {},
   "source": [
    "- Now that we have all the attributes and methods of Student class available to us\n",
    "- Next we learn how to define attributes and methods for the child class"
   ]
  },
  {
   "cell_type": "markdown",
   "metadata": {},
   "source": [
    "### Defining Attributes and Methods for the Child Class"
   ]
  },
  {
   "cell_type": "code",
   "execution_count": 3,
   "metadata": {},
   "outputs": [],
   "source": [
    "# Now let's define the attributes and functions for the Appearance class\n",
    "\n",
    "class Appearance(Student):\n",
    "    \n",
    "    \n",
    "    def __init__(self,name,grade):\n",
    "            \n",
    "            super().__init__(name,grade)\n",
    "            \n",
    "            # define attributes\n",
    "            self.town='new york'   \n",
    "            \n",
    "    # we now write a function to         \n",
    "            \n",
    "    def my_height(self,height):\n",
    "        \n",
    "        print('My height is '+ str(self.height)+' feet')\n",
    "        \n",
    "    def my_weight(self,weight):\n",
    "        print('My weight is '+str(self.weight)+' kgs')"
   ]
  },
  {
   "cell_type": "code",
   "execution_count": 5,
   "metadata": {},
   "outputs": [],
   "source": [
    "#Let's create an instance of the above class\n",
    "\n",
    "stud2=Appearance('hermine','sixth')"
   ]
  },
  {
   "cell_type": "code",
   "execution_count": 6,
   "metadata": {},
   "outputs": [
    {
     "name": "stdout",
     "output_type": "stream",
     "text": [
      "My height is 6 feet\n"
     ]
    }
   ],
   "source": [
    "# Let's call a method\n",
    "\n",
    "stud2.my_height(6)"
   ]
  }
 ],
 "metadata": {
  "kernelspec": {
   "display_name": "Python 3",
   "language": "python",
   "name": "python3"
  },
  "language_info": {
   "codemirror_mode": {
    "name": "ipython",
    "version": 3
   },
   "file_extension": ".py",
   "mimetype": "text/x-python",
   "name": "python",
   "nbconvert_exporter": "python",
   "pygments_lexer": "ipython3",
   "version": "3.7.4"
  }
 },
 "nbformat": 4,
 "nbformat_minor": 2
}
