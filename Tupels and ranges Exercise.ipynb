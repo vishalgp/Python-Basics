{
 "cells": [
  {
   "cell_type": "markdown",
   "metadata": {},
   "source": [
    "### Exercise 1 : Several Variables using tuples\n",
    "\n",
    "- Given a tuple\n",
    "   - Write a program to unpack a tuple in several variables."
   ]
  },
  {
   "cell_type": "markdown",
   "metadata": {},
   "source": [
    "### Exercise 2 : Tuple of tuples\n",
    "\n",
    "- write a program to create a tuple of \n",
    "   - tuples of ( even number ,squares) till number is 10\n",
    "   - tuple of  (odd number ,cubes) till number is 10"
   ]
  },
  {
   "cell_type": "markdown",
   "metadata": {},
   "source": [
    "### Exercise 3 : add item to tuple\n",
    "\n",
    "- Given a tuple\n",
    "   - Write a Python program to add an item in a tuple\n",
    "      - in the end of the list\n",
    "      - at a specific index in the tuple"
   ]
  },
  {
   "cell_type": "markdown",
   "metadata": {},
   "source": [
    "### Exercise 4 : tuple to string\n",
    "\n",
    "- Given a tuple\n",
    "   - tup1=('n','a','m','e',' ','i','s',' ','b','o','n','d')\n",
    "   - Write a Python program to add an item in a tuple\n",
    "      - to covert it to a string\n",
    "      "
   ]
  },
  {
   "cell_type": "markdown",
   "metadata": {},
   "source": [
    "### Exercise 5 : tuple by range function and modify using insert method of lists\n",
    "\n",
    "- create a list of even numbers upto 10 using range function\n",
    "   - add an element 5 to the tuple after element 4  \n",
    "   - use insert method of lists to acheive this\n",
    "      "
   ]
  }
 ],
 "metadata": {
  "kernelspec": {
   "display_name": "Python 3",
   "language": "python",
   "name": "python3"
  },
  "language_info": {
   "codemirror_mode": {
    "name": "ipython",
    "version": 3
   },
   "file_extension": ".py",
   "mimetype": "text/x-python",
   "name": "python",
   "nbconvert_exporter": "python",
   "pygments_lexer": "ipython3",
   "version": "3.7.4"
  }
 },
 "nbformat": 4,
 "nbformat_minor": 2
}
