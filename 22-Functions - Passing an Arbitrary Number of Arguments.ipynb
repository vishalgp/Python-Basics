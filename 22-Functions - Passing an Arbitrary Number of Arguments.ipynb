{
 "cells": [
  {
   "cell_type": "markdown",
   "metadata": {},
   "source": [
    "## Passing an Arbitrary Number of Arguments"
   ]
  },
  {
   "cell_type": "markdown",
   "metadata": {},
   "source": [
    "- Sometimes you won’t know ahead of time how many arguments a function needs to accept. \n",
    "- Fortunately, Python allows a function to collect an arbitrary number of arguments from the calling statement."
   ]
  },
  {
   "cell_type": "markdown",
   "metadata": {},
   "source": [
    "### Using arbitary number of positional arguments - *args"
   ]
  },
  {
   "cell_type": "markdown",
   "metadata": {},
   "source": [
    "- let's say i want to write a function to find the average of the numbers given by users\n",
    "- but the condition is that the user can give any number of numbers to the function\n",
    "- as we do not know beforehand how many numbers the user is going to give as inputs\n",
    "- so we need our function to be able to take any number of inputs\n",
    "- we do this by adding *before the parameter\n",
    "- this type of arguments is known as *args"
   ]
  },
  {
   "cell_type": "code",
   "execution_count": 6,
   "metadata": {},
   "outputs": [],
   "source": [
    "# Let's now write the function\n",
    "\n",
    "def average(*nums):\n",
    "    print(nums)                  # the arguments are saved as a tuple\n",
    "    total=sum(nums)              # first we find sum of all the numbers\n",
    "    average=total/len(nums)      # we now find the average of all the numbers\n",
    "    return average               # next we return the average"
   ]
  },
  {
   "cell_type": "code",
   "execution_count": 7,
   "metadata": {},
   "outputs": [
    {
     "name": "stdout",
     "output_type": "stream",
     "text": [
      "(2, 4)\n"
     ]
    },
    {
     "data": {
      "text/plain": [
       "3.0"
      ]
     },
     "execution_count": 7,
     "metadata": {},
     "output_type": "execute_result"
    }
   ],
   "source": [
    "# let's now call the function we use only two arguments\n",
    "\n",
    "average(2,4)"
   ]
  },
  {
   "cell_type": "code",
   "execution_count": 9,
   "metadata": {},
   "outputs": [
    {
     "name": "stdout",
     "output_type": "stream",
     "text": [
      "(2, 4, 6, 8, 10, 12, 15)\n"
     ]
    },
    {
     "data": {
      "text/plain": [
       "8.142857142857142"
      ]
     },
     "execution_count": 9,
     "metadata": {},
     "output_type": "execute_result"
    }
   ],
   "source": [
    "# let's now give more arguments to the function\n",
    "\n",
    "average(2,4,6,8,10,12,15)"
   ]
  },
  {
   "cell_type": "markdown",
   "metadata": {},
   "source": [
    "### Mixing Positional and Arbitary arguments"
   ]
  },
  {
   "cell_type": "markdown",
   "metadata": {},
   "source": [
    "- we will now wrute a funcion to calculate the percentage of marks obtained by a student\n",
    "- the student is free to take any number of subjects in a semister\n",
    "- we give student name and marks as input to the function"
   ]
  },
  {
   "cell_type": "code",
   "execution_count": 10,
   "metadata": {},
   "outputs": [],
   "source": [
    "# Let's now write the function\n",
    "\n",
    "def percentage(name,*marks):\n",
    "    \n",
    "    max_marks=len(marks)*100                    #  the maximum marks for a candidate\n",
    "    obtained_marks=sum(marks)                   # Obtained marks for the candidate\n",
    "    percentage=(obtained_marks*100)/max_marks   # calculate pecentage\n",
    "    \n",
    "    print(name.title() +\" has got \"+str(percentage)+\" % in this semester\")\n",
    "    "
   ]
  },
  {
   "cell_type": "code",
   "execution_count": 11,
   "metadata": {
    "scrolled": true
   },
   "outputs": [
    {
     "name": "stdout",
     "output_type": "stream",
     "text": [
      "John has got 80.0 % in this semester\n"
     ]
    }
   ],
   "source": [
    "# Let's now call the function\n",
    "\n",
    "percentage('john',70,90)"
   ]
  },
  {
   "cell_type": "code",
   "execution_count": 12,
   "metadata": {
    "scrolled": true
   },
   "outputs": [
    {
     "name": "stdout",
     "output_type": "stream",
     "text": [
      "Tim has got 60.0 % in this semester\n"
     ]
    }
   ],
   "source": [
    "# let's call the function again for another student\n",
    "\n",
    "percentage('tim',60,40,80)"
   ]
  },
  {
   "cell_type": "markdown",
   "metadata": {},
   "source": [
    "### Using Arbitary Keyword Arguments"
   ]
  },
  {
   "cell_type": "markdown",
   "metadata": {},
   "source": [
    "- Sometimes you’ll want to accept an arbitrary number of arguments, but you won’t know ahead of time what kind of information will be passed to the function.\n",
    "- In this case, you can write functions that accept as many key-value pairs as the calling statement provides."
   ]
  },
  {
   "cell_type": "markdown",
   "metadata": {},
   "source": [
    "- let's say we want to build a student profile\n",
    "- as we do not know before hand what sort of habits and interests a student has \n",
    "- we can use the **kwargs to take as much information as we want "
   ]
  },
  {
   "cell_type": "code",
   "execution_count": 13,
   "metadata": {},
   "outputs": [],
   "source": [
    "# let's create the function which takes student information and builds a profile\n",
    "\n",
    "def student_profile(name,**student_info):\n",
    "    \n",
    "    print(\"\\nStudent Name : \"+ name.title()+\"\\n\"+\"\\nHis Profile is as below \")\n",
    "    \n",
    "    for key,value in student_info.items():\n",
    "        print(\"\\n\",str(key).title() +\": \"+ str(value).title())"
   ]
  },
  {
   "cell_type": "code",
   "execution_count": 14,
   "metadata": {
    "scrolled": true
   },
   "outputs": [
    {
     "name": "stdout",
     "output_type": "stream",
     "text": [
      "\n",
      "Student Name : John\n",
      "\n",
      "His Profile is as below \n",
      "\n",
      " Age: 30\n",
      "\n",
      " Grade: 9\n",
      "\n",
      " Fav_Subject: Maths\n",
      "\n",
      " Hobby: Programming\n"
     ]
    }
   ],
   "source": [
    "# Let's now call the function\n",
    "\n",
    "student_profile('john',age=30,grade='9',fav_subject='maths',hobby='programming')"
   ]
  },
  {
   "cell_type": "code",
   "execution_count": 15,
   "metadata": {
    "scrolled": true
   },
   "outputs": [
    {
     "name": "stdout",
     "output_type": "stream",
     "text": [
      "\n",
      "Student Name : Harry Potter\n",
      "\n",
      "His Profile is as below \n",
      "\n",
      " School: Hogwarts\n",
      "\n",
      " Best_Friends: Ron And Hermine\n",
      "\n",
      " Girl_Friend: Ginny\n"
     ]
    }
   ],
   "source": [
    "# Let's see another example\n",
    "student_profile('harry potter',school='hogwarts',best_friends='ron and hermine',girl_friend='ginny')"
   ]
  },
  {
   "cell_type": "markdown",
   "metadata": {},
   "source": [
    "## This ends section on Functions"
   ]
  }
 ],
 "metadata": {
  "kernelspec": {
   "display_name": "Python 3",
   "language": "python",
   "name": "python3"
  },
  "language_info": {
   "codemirror_mode": {
    "name": "ipython",
    "version": 3
   },
   "file_extension": ".py",
   "mimetype": "text/x-python",
   "name": "python",
   "nbconvert_exporter": "python",
   "pygments_lexer": "ipython3",
   "version": "3.7.4"
  }
 },
 "nbformat": 4,
 "nbformat_minor": 2
}
